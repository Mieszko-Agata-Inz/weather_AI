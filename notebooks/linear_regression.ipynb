{
 "cells": [
  {
   "cell_type": "markdown",
   "metadata": {},
   "source": [
    "# Regression model"
   ]
  },
  {
   "cell_type": "code",
   "execution_count": 178,
   "metadata": {},
   "outputs": [],
   "source": [
    "from sklearn.linear_model import LinearRegression\n",
    "import pandas as pd\n",
    "import numpy as np\n",
    "import matplotlib.pyplot as plt\n",
    "from sklearn.metrics import mean_squared_error"
   ]
  },
  {
   "cell_type": "code",
   "execution_count": 179,
   "metadata": {},
   "outputs": [],
   "source": [
    "# Read the CSV file\n",
    "all_data = pd.read_csv(\"data_for_main_model/data_ready_for_training.csv\")\n",
    "all_data.drop('Unnamed: 0',axis='columns', inplace=True)\n",
    "all_data = all_data[[\"relh\", \"sknt\", \"temp\"]]"
   ]
  },
  {
   "cell_type": "code",
   "execution_count": 180,
   "metadata": {},
   "outputs": [
    {
     "data": {
      "text/html": [
       "<div>\n",
       "<style scoped>\n",
       "    .dataframe tbody tr th:only-of-type {\n",
       "        vertical-align: middle;\n",
       "    }\n",
       "\n",
       "    .dataframe tbody tr th {\n",
       "        vertical-align: top;\n",
       "    }\n",
       "\n",
       "    .dataframe thead th {\n",
       "        text-align: right;\n",
       "    }\n",
       "</style>\n",
       "<table border=\"1\" class=\"dataframe\">\n",
       "  <thead>\n",
       "    <tr style=\"text-align: right;\">\n",
       "      <th></th>\n",
       "      <th>relh</th>\n",
       "      <th>sknt</th>\n",
       "      <th>temp</th>\n",
       "    </tr>\n",
       "  </thead>\n",
       "  <tbody>\n",
       "    <tr>\n",
       "      <th>69981</th>\n",
       "      <td>86.79</td>\n",
       "      <td>3.0</td>\n",
       "      <td>4.0</td>\n",
       "    </tr>\n",
       "    <tr>\n",
       "      <th>69982</th>\n",
       "      <td>93.14</td>\n",
       "      <td>3.0</td>\n",
       "      <td>3.0</td>\n",
       "    </tr>\n",
       "    <tr>\n",
       "      <th>69983</th>\n",
       "      <td>86.79</td>\n",
       "      <td>4.0</td>\n",
       "      <td>4.0</td>\n",
       "    </tr>\n",
       "    <tr>\n",
       "      <th>69984</th>\n",
       "      <td>86.79</td>\n",
       "      <td>5.0</td>\n",
       "      <td>4.0</td>\n",
       "    </tr>\n",
       "    <tr>\n",
       "      <th>69985</th>\n",
       "      <td>86.79</td>\n",
       "      <td>6.0</td>\n",
       "      <td>4.0</td>\n",
       "    </tr>\n",
       "  </tbody>\n",
       "</table>\n",
       "</div>"
      ],
      "text/plain": [
       "        relh  sknt  temp\n",
       "69981  86.79   3.0   4.0\n",
       "69982  93.14   3.0   3.0\n",
       "69983  86.79   4.0   4.0\n",
       "69984  86.79   5.0   4.0\n",
       "69985  86.79   6.0   4.0"
      ]
     },
     "execution_count": 180,
     "metadata": {},
     "output_type": "execute_result"
    }
   ],
   "source": [
    "all_data.tail()"
   ]
  },
  {
   "cell_type": "code",
   "execution_count": 181,
   "metadata": {},
   "outputs": [],
   "source": [
    "relh = all_data['temp']"
   ]
  },
  {
   "cell_type": "code",
   "execution_count": 182,
   "metadata": {},
   "outputs": [],
   "source": [
    "def transform_and_split_data(df_input, window_size = 3, test_size = 0.1, timestamps_count = 0):\n",
    "    df = df_input.to_numpy()\n",
    "    data_count = len(df)\n",
    "    X = []\n",
    "    y = []\n",
    "    # Explanatory X and Response y variables \n",
    "    for i in range(data_count-window_size - timestamps_count):\n",
    "        row = [r for r in df[i:i+window_size]]\n",
    "        X.append(row)\n",
    "        label = [df[i+window_size + timestamps_count]]\n",
    "        y.append(label)\n",
    "    X = np.array(X)\n",
    "    y = np.array(y)\n",
    "    # data split\n",
    "    train_size = 1 - test_size \n",
    "    train_last_el = int(data_count * train_size)\n",
    "\n",
    "    X_train, y_train = X[:train_last_el], y[:train_last_el]\n",
    "    X_test, y_test = X[train_last_el:], y[train_last_el:]\n",
    "\n",
    "    return  X_train, y_train, X_test, y_test"
   ]
  },
  {
   "cell_type": "code",
   "execution_count": 183,
   "metadata": {},
   "outputs": [],
   "source": [
    "# data to manipulate\n",
    "window_size = 6\n",
    "test_size = 0.1\n",
    "timestamps_count = 0"
   ]
  },
  {
   "cell_type": "code",
   "execution_count": 184,
   "metadata": {},
   "outputs": [],
   "source": [
    "X_train, y_train, X_test, y_test = transform_and_split_data(relh, window_size, test_size, timestamps_count)"
   ]
  },
  {
   "cell_type": "markdown",
   "metadata": {},
   "source": [
    "# Regression model for temeprature"
   ]
  },
  {
   "cell_type": "code",
   "execution_count": 185,
   "metadata": {},
   "outputs": [],
   "source": [
    "reg = LinearRegression().fit(X_train, y_train)"
   ]
  },
  {
   "cell_type": "code",
   "execution_count": 186,
   "metadata": {},
   "outputs": [
    {
     "data": {
      "text/plain": [
       "0.9864433764902987"
      ]
     },
     "execution_count": 186,
     "metadata": {},
     "output_type": "execute_result"
    }
   ],
   "source": [
    "reg.score(X_train, y_train)"
   ]
  },
  {
   "cell_type": "code",
   "execution_count": 187,
   "metadata": {},
   "outputs": [
    {
     "name": "stdout",
     "output_type": "stream",
     "text": [
      "[[ 0.05968094 -0.05124042 -0.07185952 -0.14581036 -0.10505011  1.30010653]]\n",
      "[0.13363522]\n"
     ]
    }
   ],
   "source": [
    "print(reg.coef_)\n",
    "print(reg.intercept_)"
   ]
  },
  {
   "cell_type": "code",
   "execution_count": 188,
   "metadata": {},
   "outputs": [],
   "source": [
    "pred = reg.predict(X_test)"
   ]
  },
  {
   "cell_type": "code",
   "execution_count": 189,
   "metadata": {},
   "outputs": [
    {
     "data": {
      "text/plain": [
       "<Figure size 1000x480 with 0 Axes>"
      ]
     },
     "metadata": {},
     "output_type": "display_data"
    },
    {
     "data": {
      "image/png": "[encoded data removed]",
      "text/plain": [
       "<Figure size 640x100 with 1 Axes>"
      ]
     },
     "metadata": {},
     "output_type": "display_data"
    }
   ],
   "source": [
    "plt.figure().set_figwidth(10)\n",
    "plt.figure().set_figheight(1)\n",
    "plt.plot(pred[0:50], 'r')\n",
    "plt.plot(y_test[0:50])\n",
    "plt.title('temperature')\n",
    "plt.xlabel('h')  \n",
    "plt.ylabel('st C') \n",
    "plt.show()"
   ]
  },
  {
   "cell_type": "code",
   "execution_count": 193,
   "metadata": {},
   "outputs": [
    {
     "name": "stdout",
     "output_type": "stream",
     "text": [
      "[1.3101876196386704, 3.5368608155813974, 6.785420744567002, 10.636392551918387, 14.719419761480026]\n"
     ]
    }
   ],
   "source": [
    "# MSE calculations for given window size and etc. in next 1 to 5 next hours\n",
    "window_size = 6\n",
    "test_size = 0.1\n",
    "\n",
    "def return_time(window_size,test_size):\n",
    "    MSE = []\n",
    "    last_pred_hour = 5\n",
    "    for hour in range(last_pred_hour):\n",
    "        X_train, y_train, X_test, y_test = transform_and_split_data(relh, window_size, test_size, hour)\n",
    "        reg = LinearRegression().fit(X_train, y_train)\n",
    "        pred = reg.predict(X_test)\n",
    "        MSE.append(mean_squared_error(y_test, pred))\n",
    "\n",
    "\n",
    "    return MSE\n",
    "\n",
    "MSE = return_time(window_size,test_size)\n",
    "print(MSE)"
   ]
  }
 ],
 "metadata": {
  "kernelspec": {
   "display_name": "Python 3",
   "language": "python",
   "name": "python3"
  },
  "language_info": {
   "codemirror_mode": {
    "name": "ipython",
    "version": 3
   },
   "file_extension": ".py",
   "mimetype": "text/x-python",
   "name": "python",
   "nbconvert_exporter": "python",
   "pygments_lexer": "ipython3",
   "version": "3.10.5"
  }
 },
 "nbformat": 4,
 "nbformat_minor": 2
}
