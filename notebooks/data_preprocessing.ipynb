{
 "cells": [
  {
   "cell_type": "markdown",
   "metadata": {},
   "source": [
    "# Weather data preprocessing"
   ]
  },
  {
   "cell_type": "code",
   "execution_count": 91,
   "metadata": {},
   "outputs": [],
   "source": [
    "import pandas as pd\n",
    "from matplotlib import pyplot\n",
    "import seaborn as sn\n",
    "import matplotlib.pyplot as plt\n",
    "from statsmodels.graphics.tsaplots import plot_acf, plot_pacf\n",
    "import datetime as dt\n",
    "import numpy as np"
   ]
  },
  {
   "cell_type": "code",
   "execution_count": 92,
   "metadata": {},
   "outputs": [],
   "source": [
    "import warnings\n",
    "warnings.filterwarnings(\"ignore\") #:D"
   ]
  },
  {
   "cell_type": "markdown",
   "metadata": {},
   "source": [
    "### files to load"
   ]
  },
  {
   "cell_type": "code",
   "execution_count": 93,
   "metadata": {},
   "outputs": [],
   "source": [
    "# GLOBAL to change \n",
    "file_name = \"data_for_main_model/data_lodz_main_data.csv\"\n",
    "df_name = \"data_distance_from_Lodz/data_ready_for_training.csv\"\n",
    "df_name_update = \"data_distance_from_Lodz/data_ready_for_update.csv\"\n",
    "\n",
    "# # for city 2022 (not Lodz)\n",
    "# file_name = \"data_distance_from_Lodz/Lodz.csv\"\n",
    "# city_name = \"data_distance_from_Lodz/Lodz_2022.csv\""
   ]
  },
  {
   "cell_type": "code",
   "execution_count": 94,
   "metadata": {},
   "outputs": [],
   "source": [
    "# Read the CSV file\n",
    "all_data = pd.read_csv(file_name)"
   ]
  },
  {
   "cell_type": "code",
   "execution_count": 95,
   "metadata": {},
   "outputs": [
    {
     "data": {
      "text/html": [
       "<div>\n",
       "<style scoped>\n",
       "    .dataframe tbody tr th:only-of-type {\n",
       "        vertical-align: middle;\n",
       "    }\n",
       "\n",
       "    .dataframe tbody tr th {\n",
       "        vertical-align: top;\n",
       "    }\n",
       "\n",
       "    .dataframe thead th {\n",
       "        text-align: right;\n",
       "    }\n",
       "</style>\n",
       "<table border=\"1\" class=\"dataframe\">\n",
       "  <thead>\n",
       "    <tr style=\"text-align: right;\">\n",
       "      <th></th>\n",
       "      <th>station</th>\n",
       "      <th>valid</th>\n",
       "      <th>tmpc</th>\n",
       "      <th>relh</th>\n",
       "      <th>sknt</th>\n",
       "    </tr>\n",
       "  </thead>\n",
       "  <tbody>\n",
       "    <tr>\n",
       "      <th>0</th>\n",
       "      <td>EPLL</td>\n",
       "      <td>2022-01-01 00:00</td>\n",
       "      <td>10.0</td>\n",
       "      <td>93.5</td>\n",
       "      <td>11.0</td>\n",
       "    </tr>\n",
       "    <tr>\n",
       "      <th>1</th>\n",
       "      <td>EPLL</td>\n",
       "      <td>2022-01-01 00:30</td>\n",
       "      <td>10.0</td>\n",
       "      <td>93.5</td>\n",
       "      <td>12.0</td>\n",
       "    </tr>\n",
       "    <tr>\n",
       "      <th>2</th>\n",
       "      <td>EPLL</td>\n",
       "      <td>2022-01-01 01:00</td>\n",
       "      <td>10.0</td>\n",
       "      <td>93.5</td>\n",
       "      <td>13.0</td>\n",
       "    </tr>\n",
       "    <tr>\n",
       "      <th>3</th>\n",
       "      <td>EPLL</td>\n",
       "      <td>2022-01-01 01:30</td>\n",
       "      <td>10.0</td>\n",
       "      <td>93.5</td>\n",
       "      <td>13.0</td>\n",
       "    </tr>\n",
       "    <tr>\n",
       "      <th>4</th>\n",
       "      <td>EPLL</td>\n",
       "      <td>2022-01-01 02:00</td>\n",
       "      <td>10.0</td>\n",
       "      <td>93.5</td>\n",
       "      <td>13.0</td>\n",
       "    </tr>\n",
       "  </tbody>\n",
       "</table>\n",
       "</div>"
      ],
      "text/plain": [
       "  station             valid  tmpc  relh  sknt\n",
       "0    EPLL  2022-01-01 00:00  10.0  93.5  11.0\n",
       "1    EPLL  2022-01-01 00:30  10.0  93.5  12.0\n",
       "2    EPLL  2022-01-01 01:00  10.0  93.5  13.0\n",
       "3    EPLL  2022-01-01 01:30  10.0  93.5  13.0\n",
       "4    EPLL  2022-01-01 02:00  10.0  93.5  13.0"
      ]
     },
     "execution_count": 95,
     "metadata": {},
     "output_type": "execute_result"
    }
   ],
   "source": [
    "all_data.head()"
   ]
  },
  {
   "cell_type": "code",
   "execution_count": 96,
   "metadata": {},
   "outputs": [
    {
     "data": {
      "text/html": [
       "<div>\n",
       "<style scoped>\n",
       "    .dataframe tbody tr th:only-of-type {\n",
       "        vertical-align: middle;\n",
       "    }\n",
       "\n",
       "    .dataframe tbody tr th {\n",
       "        vertical-align: top;\n",
       "    }\n",
       "\n",
       "    .dataframe thead th {\n",
       "        text-align: right;\n",
       "    }\n",
       "</style>\n",
       "<table border=\"1\" class=\"dataframe\">\n",
       "  <thead>\n",
       "    <tr style=\"text-align: right;\">\n",
       "      <th></th>\n",
       "      <th>station</th>\n",
       "      <th>valid</th>\n",
       "      <th>tmpc</th>\n",
       "      <th>relh</th>\n",
       "      <th>sknt</th>\n",
       "    </tr>\n",
       "  </thead>\n",
       "  <tbody>\n",
       "    <tr>\n",
       "      <th>17455</th>\n",
       "      <td>EPLL</td>\n",
       "      <td>2022-12-30 21:30</td>\n",
       "      <td>4.0</td>\n",
       "      <td>86.79</td>\n",
       "      <td>4.0</td>\n",
       "    </tr>\n",
       "    <tr>\n",
       "      <th>17456</th>\n",
       "      <td>EPLL</td>\n",
       "      <td>2022-12-30 22:00</td>\n",
       "      <td>4.0</td>\n",
       "      <td>86.79</td>\n",
       "      <td>5.0</td>\n",
       "    </tr>\n",
       "    <tr>\n",
       "      <th>17457</th>\n",
       "      <td>EPLL</td>\n",
       "      <td>2022-12-30 22:30</td>\n",
       "      <td>3.0</td>\n",
       "      <td>93.14</td>\n",
       "      <td>4.0</td>\n",
       "    </tr>\n",
       "    <tr>\n",
       "      <th>17458</th>\n",
       "      <td>EPLL</td>\n",
       "      <td>2022-12-30 23:00</td>\n",
       "      <td>4.0</td>\n",
       "      <td>86.79</td>\n",
       "      <td>6.0</td>\n",
       "    </tr>\n",
       "    <tr>\n",
       "      <th>17459</th>\n",
       "      <td>EPLL</td>\n",
       "      <td>2022-12-30 23:30</td>\n",
       "      <td>4.0</td>\n",
       "      <td>86.79</td>\n",
       "      <td>6.0</td>\n",
       "    </tr>\n",
       "  </tbody>\n",
       "</table>\n",
       "</div>"
      ],
      "text/plain": [
       "      station             valid  tmpc   relh  sknt\n",
       "17455    EPLL  2022-12-30 21:30   4.0  86.79   4.0\n",
       "17456    EPLL  2022-12-30 22:00   4.0  86.79   5.0\n",
       "17457    EPLL  2022-12-30 22:30   3.0  93.14   4.0\n",
       "17458    EPLL  2022-12-30 23:00   4.0  86.79   6.0\n",
       "17459    EPLL  2022-12-30 23:30   4.0  86.79   6.0"
      ]
     },
     "execution_count": 96,
     "metadata": {},
     "output_type": "execute_result"
    }
   ],
   "source": [
    "all_data.tail()"
   ]
  },
  {
   "cell_type": "markdown",
   "metadata": {},
   "source": [
    "### Note - columns:\n",
    "\n",
    "valid:\n",
    "timestamp of the observation - every half hour\n",
    "\n",
    "tmpc:\n",
    "Air Temperature in Celsius\n",
    "\n",
    "relh:\n",
    "Relative Humidity in %\n",
    "\n",
    "sknt:\n",
    "Wind Speed in knots"
   ]
  },
  {
   "cell_type": "code",
   "execution_count": 97,
   "metadata": {},
   "outputs": [
    {
     "data": {
      "text/plain": [
       "valid    0.0\n",
       "tmpc     0.0\n",
       "relh     0.0\n",
       "sknt     0.0\n",
       "dtype: float64"
      ]
     },
     "execution_count": 97,
     "metadata": {},
     "output_type": "execute_result"
    }
   ],
   "source": [
    "df = all_data[[\"valid\", \"tmpc\", \"relh\", \"sknt\"]]\n",
    "\n",
    "#empty rows deletion\n",
    "df=df.replace('M', pd.np.nan)\n",
    "\n",
    "df.isna().mean()"
   ]
  },
  {
   "cell_type": "markdown",
   "metadata": {},
   "source": [
    "### If NAN then:\n",
    "### - the same data as in previous step in 'relh' column (because there are sequences of nan values)\n",
    "### - mean from previous and next steps in 'tmpc' and 'sknt'"
   ]
  },
  {
   "cell_type": "code",
   "execution_count": 98,
   "metadata": {},
   "outputs": [
    {
     "data": {
      "text/plain": [
       "valid    0.0\n",
       "tmpc     0.0\n",
       "relh     0.0\n",
       "sknt     0.0\n",
       "dtype: float64"
      ]
     },
     "execution_count": 98,
     "metadata": {},
     "output_type": "execute_result"
    }
   ],
   "source": [
    "df['tmpc'] = df['tmpc'].astype(float)\n",
    "df['relh'] = df['relh'].astype(float)\n",
    "df['sknt'] = df['sknt'].astype(float)\n",
    "\n",
    "\n",
    "# 'tmpf' NaN into data from previous timestamp\n",
    "bool_df = df['tmpc'].isnull()\n",
    "indexes = df[bool_df].index\n",
    "for i in indexes:\n",
    "    df['tmpc'][i]=(df['tmpc'][i-1] + df['tmpc'][i+1])/2\n",
    "\n",
    "# 'tmpf' NaN into data from previous timestamp\n",
    "bool_df = df['relh'].isnull()\n",
    "indexes = df[bool_df].index\n",
    "for i in indexes:\n",
    "    df['relh'][i]=df['relh'][i-1]\n",
    "\n",
    "# 'tmpf' NaN into data from previous timestamp\n",
    "bool_df = df['sknt'].isnull()\n",
    "indexes = df[bool_df].index\n",
    "for i in indexes:\n",
    "    df['sknt'][i]=(df['sknt'][i-1] + df['sknt'][i+1])/2\n",
    "\n",
    "df.isna().mean()"
   ]
  },
  {
   "cell_type": "code",
   "execution_count": 99,
   "metadata": {},
   "outputs": [
    {
     "data": {
      "text/html": [
       "<div>\n",
       "<style scoped>\n",
       "    .dataframe tbody tr th:only-of-type {\n",
       "        vertical-align: middle;\n",
       "    }\n",
       "\n",
       "    .dataframe tbody tr th {\n",
       "        vertical-align: top;\n",
       "    }\n",
       "\n",
       "    .dataframe thead th {\n",
       "        text-align: right;\n",
       "    }\n",
       "</style>\n",
       "<table border=\"1\" class=\"dataframe\">\n",
       "  <thead>\n",
       "    <tr style=\"text-align: right;\">\n",
       "      <th></th>\n",
       "      <th>temp</th>\n",
       "      <th>relh</th>\n",
       "      <th>skph</th>\n",
       "      <th>day</th>\n",
       "      <th>month</th>\n",
       "      <th>year</th>\n",
       "      <th>time</th>\n",
       "      <th>minutes</th>\n",
       "    </tr>\n",
       "  </thead>\n",
       "  <tbody>\n",
       "    <tr>\n",
       "      <th>0</th>\n",
       "      <td>10.0</td>\n",
       "      <td>93.5</td>\n",
       "      <td>20.372</td>\n",
       "      <td>1</td>\n",
       "      <td>1</td>\n",
       "      <td>2022</td>\n",
       "      <td>00:00:00</td>\n",
       "      <td>0</td>\n",
       "    </tr>\n",
       "    <tr>\n",
       "      <th>1</th>\n",
       "      <td>10.0</td>\n",
       "      <td>93.5</td>\n",
       "      <td>22.224</td>\n",
       "      <td>1</td>\n",
       "      <td>1</td>\n",
       "      <td>2022</td>\n",
       "      <td>00:30:00</td>\n",
       "      <td>30</td>\n",
       "    </tr>\n",
       "    <tr>\n",
       "      <th>2</th>\n",
       "      <td>10.0</td>\n",
       "      <td>93.5</td>\n",
       "      <td>24.076</td>\n",
       "      <td>1</td>\n",
       "      <td>1</td>\n",
       "      <td>2022</td>\n",
       "      <td>01:00:00</td>\n",
       "      <td>0</td>\n",
       "    </tr>\n",
       "    <tr>\n",
       "      <th>3</th>\n",
       "      <td>10.0</td>\n",
       "      <td>93.5</td>\n",
       "      <td>24.076</td>\n",
       "      <td>1</td>\n",
       "      <td>1</td>\n",
       "      <td>2022</td>\n",
       "      <td>01:30:00</td>\n",
       "      <td>30</td>\n",
       "    </tr>\n",
       "    <tr>\n",
       "      <th>4</th>\n",
       "      <td>10.0</td>\n",
       "      <td>93.5</td>\n",
       "      <td>24.076</td>\n",
       "      <td>1</td>\n",
       "      <td>1</td>\n",
       "      <td>2022</td>\n",
       "      <td>02:00:00</td>\n",
       "      <td>0</td>\n",
       "    </tr>\n",
       "    <tr>\n",
       "      <th>5</th>\n",
       "      <td>10.0</td>\n",
       "      <td>93.5</td>\n",
       "      <td>25.928</td>\n",
       "      <td>1</td>\n",
       "      <td>1</td>\n",
       "      <td>2022</td>\n",
       "      <td>02:30:00</td>\n",
       "      <td>30</td>\n",
       "    </tr>\n",
       "    <tr>\n",
       "      <th>6</th>\n",
       "      <td>10.0</td>\n",
       "      <td>93.5</td>\n",
       "      <td>25.928</td>\n",
       "      <td>1</td>\n",
       "      <td>1</td>\n",
       "      <td>2022</td>\n",
       "      <td>03:00:00</td>\n",
       "      <td>0</td>\n",
       "    </tr>\n",
       "    <tr>\n",
       "      <th>7</th>\n",
       "      <td>10.0</td>\n",
       "      <td>93.5</td>\n",
       "      <td>24.076</td>\n",
       "      <td>1</td>\n",
       "      <td>1</td>\n",
       "      <td>2022</td>\n",
       "      <td>03:30:00</td>\n",
       "      <td>30</td>\n",
       "    </tr>\n",
       "    <tr>\n",
       "      <th>8</th>\n",
       "      <td>10.0</td>\n",
       "      <td>93.5</td>\n",
       "      <td>24.076</td>\n",
       "      <td>1</td>\n",
       "      <td>1</td>\n",
       "      <td>2022</td>\n",
       "      <td>04:00:00</td>\n",
       "      <td>0</td>\n",
       "    </tr>\n",
       "    <tr>\n",
       "      <th>9</th>\n",
       "      <td>10.0</td>\n",
       "      <td>93.5</td>\n",
       "      <td>14.816</td>\n",
       "      <td>1</td>\n",
       "      <td>1</td>\n",
       "      <td>2022</td>\n",
       "      <td>04:30:00</td>\n",
       "      <td>30</td>\n",
       "    </tr>\n",
       "  </tbody>\n",
       "</table>\n",
       "</div>"
      ],
      "text/plain": [
       "   temp  relh    skph  day  month  year      time  minutes\n",
       "0  10.0  93.5  20.372    1      1  2022  00:00:00        0\n",
       "1  10.0  93.5  22.224    1      1  2022  00:30:00       30\n",
       "2  10.0  93.5  24.076    1      1  2022  01:00:00        0\n",
       "3  10.0  93.5  24.076    1      1  2022  01:30:00       30\n",
       "4  10.0  93.5  24.076    1      1  2022  02:00:00        0\n",
       "5  10.0  93.5  25.928    1      1  2022  02:30:00       30\n",
       "6  10.0  93.5  25.928    1      1  2022  03:00:00        0\n",
       "7  10.0  93.5  24.076    1      1  2022  03:30:00       30\n",
       "8  10.0  93.5  24.076    1      1  2022  04:00:00        0\n",
       "9  10.0  93.5  14.816    1      1  2022  04:30:00       30"
      ]
     },
     "execution_count": 99,
     "metadata": {},
     "output_type": "execute_result"
    }
   ],
   "source": [
    "dft = df\n",
    "dft.rename(columns = {'tmpc':'temp'}, inplace = True)\n",
    "# knt => kph\n",
    "knots_into_kmph = 1.852 \n",
    "dft['skph'] = dft['sknt'] * knots_into_kmph\n",
    "dft.drop('sknt',axis='columns', inplace=True)\n",
    "\n",
    "# date\n",
    "dft['valid']=pd.to_datetime(dft['valid'])\n",
    "dft['day'] = dft['valid'].dt.day\n",
    "dft['month'] = dft['valid'].dt.month\n",
    "dft['year'] = dft['valid'].dt.year\n",
    "dft['time'] = dft['valid'].dt.time\n",
    "\n",
    "# to choose only full hours in the future\n",
    "dft['minutes'] = dft['valid'].dt.minute\n",
    "\n",
    "dft.drop('valid',axis='columns', inplace=True)\n",
    "\n",
    "dft.head(10)"
   ]
  },
  {
   "cell_type": "markdown",
   "metadata": {},
   "source": [
    "# Only for main data till the next huge section \"Data from different cities preprocessing - uncomment if in use\""
   ]
  },
  {
   "cell_type": "markdown",
   "metadata": {},
   "source": [
    "### Checking the number of rows - is there any missing data?"
   ]
  },
  {
   "cell_type": "code",
   "execution_count": 100,
   "metadata": {},
   "outputs": [],
   "source": [
    "# only for Lodz data\n",
    "\n",
    "for i in range(2010, 2023):\n",
    "    print(i)\n",
    "    print(dft[dft['year'] == i].shape)"
   ]
  },
  {
   "cell_type": "markdown",
   "metadata": {},
   "source": [
    "### 2010 and 2011 drop"
   ]
  },
  {
   "cell_type": "code",
   "execution_count": 101,
   "metadata": {},
   "outputs": [],
   "source": [
    "# also only for Lodz data\n",
    "\n",
    "dft.drop(dft[dft['year'] == 2010].index, inplace = True)\n",
    "dft.drop(dft[dft['year'] == 2011].index, inplace = True)"
   ]
  },
  {
   "cell_type": "code",
   "execution_count": 102,
   "metadata": {},
   "outputs": [],
   "source": [
    "window_size = 6\n",
    "percentage_of_data_learn = 0.75\n",
    "size = (int)(percentage_of_data_learn * len(dft))\n",
    "df_train_and_test = dft.iloc[:size, :]\n",
    "df_update = dft.iloc[size:, :]"
   ]
  },
  {
   "cell_type": "code",
   "execution_count": 103,
   "metadata": {},
   "outputs": [],
   "source": [
    "df_train_and_test"
   ]
  },
  {
   "cell_type": "code",
   "execution_count": 104,
   "metadata": {},
   "outputs": [],
   "source": [
    "df_train_and_test.to_csv(df_name)\n",
    "df_update.to_csv(df_name_update)"
   ]
  },
  {
   "cell_type": "markdown",
   "metadata": {},
   "source": [
    "# Data from different cities preprocessing - uncomment if in use"
   ]
  },
  {
   "cell_type": "code",
   "execution_count": 105,
   "metadata": {},
   "outputs": [],
   "source": [
    "# dft.to_csv(city_name)"
   ]
  }
 ],
 "metadata": {
  "kernelspec": {
   "display_name": "Python 3",
   "language": "python",
   "name": "python3"
  },
  "language_info": {
   "codemirror_mode": {
    "name": "ipython",
    "version": 3
   },
   "file_extension": ".py",
   "mimetype": "text/x-python",
   "name": "python",
   "nbconvert_exporter": "python",
   "pygments_lexer": "ipython3",
   "version": "3.10.5"
  }
 },
 "nbformat": 4,
 "nbformat_minor": 2
}
