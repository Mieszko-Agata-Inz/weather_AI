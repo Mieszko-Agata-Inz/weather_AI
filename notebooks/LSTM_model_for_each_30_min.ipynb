{
 "cells": [
  {
   "cell_type": "markdown",
   "metadata": {},
   "source": [
    "# LSTM model - step: half of hour"
   ]
  },
  {
   "cell_type": "markdown",
   "metadata": {},
   "source": [
    "Libraries import"
   ]
  },
  {
   "cell_type": "code",
   "execution_count": 49,
   "metadata": {},
   "outputs": [],
   "source": [
    "import pandas as pd\n",
    "import matplotlib.pyplot as plt\n",
    "import numpy as np\n",
    "import pickle\n",
    "\n",
    "from sklearn.metrics import mean_squared_error, mean_absolute_error"
   ]
  },
  {
   "cell_type": "code",
   "execution_count": 50,
   "metadata": {},
   "outputs": [],
   "source": [
    "from different_functions import transform_and_split_data, LSTM_model, transform_and_split_data, make_predictions"
   ]
  },
  {
   "cell_type": "markdown",
   "metadata": {},
   "source": [
    "CSV file reading"
   ]
  },
  {
   "cell_type": "code",
   "execution_count": 51,
   "metadata": {},
   "outputs": [],
   "source": [
    "# Read the CSV file\n",
    "all_data = pd.read_csv(\"data_for_main_model/data_ready_for_training.csv\")\n",
    "all_data.drop('Unnamed: 0',axis='columns', inplace=True)\n",
    "all_data = all_data[[\"relh\", \"skph\", \"temp\", \"minutes\"]]"
   ]
  },
  {
   "cell_type": "code",
   "execution_count": 52,
   "metadata": {},
   "outputs": [
    {
     "data": {
      "text/html": [
       "<div>\n",
       "<style scoped>\n",
       "    .dataframe tbody tr th:only-of-type {\n",
       "        vertical-align: middle;\n",
       "    }\n",
       "\n",
       "    .dataframe tbody tr th {\n",
       "        vertical-align: top;\n",
       "    }\n",
       "\n",
       "    .dataframe thead th {\n",
       "        text-align: right;\n",
       "    }\n",
       "</style>\n",
       "<table border=\"1\" class=\"dataframe\">\n",
       "  <thead>\n",
       "    <tr style=\"text-align: right;\">\n",
       "      <th></th>\n",
       "      <th>relh</th>\n",
       "      <th>skph</th>\n",
       "      <th>temp</th>\n",
       "      <th>minutes</th>\n",
       "    </tr>\n",
       "  </thead>\n",
       "  <tbody>\n",
       "    <tr>\n",
       "      <th>0</th>\n",
       "      <td>100.0</td>\n",
       "      <td>0.000</td>\n",
       "      <td>-2.0</td>\n",
       "      <td>0</td>\n",
       "    </tr>\n",
       "    <tr>\n",
       "      <th>1</th>\n",
       "      <td>100.0</td>\n",
       "      <td>0.000</td>\n",
       "      <td>-2.0</td>\n",
       "      <td>30</td>\n",
       "    </tr>\n",
       "    <tr>\n",
       "      <th>2</th>\n",
       "      <td>100.0</td>\n",
       "      <td>3.704</td>\n",
       "      <td>-2.0</td>\n",
       "      <td>0</td>\n",
       "    </tr>\n",
       "    <tr>\n",
       "      <th>3</th>\n",
       "      <td>100.0</td>\n",
       "      <td>0.000</td>\n",
       "      <td>-2.0</td>\n",
       "      <td>30</td>\n",
       "    </tr>\n",
       "    <tr>\n",
       "      <th>4</th>\n",
       "      <td>100.0</td>\n",
       "      <td>5.556</td>\n",
       "      <td>-3.0</td>\n",
       "      <td>0</td>\n",
       "    </tr>\n",
       "  </tbody>\n",
       "</table>\n",
       "</div>"
      ],
      "text/plain": [
       "    relh   skph  temp  minutes\n",
       "0  100.0  0.000  -2.0        0\n",
       "1  100.0  0.000  -2.0       30\n",
       "2  100.0  3.704  -2.0        0\n",
       "3  100.0  0.000  -2.0       30\n",
       "4  100.0  5.556  -3.0        0"
      ]
     },
     "execution_count": 52,
     "metadata": {},
     "output_type": "execute_result"
    }
   ],
   "source": [
    "all_data.head()"
   ]
  },
  {
   "cell_type": "code",
   "execution_count": 53,
   "metadata": {},
   "outputs": [],
   "source": [
    "# every 30 min\n",
    "all_data.drop('minutes',axis='columns', inplace=True)"
   ]
  },
  {
   "cell_type": "markdown",
   "metadata": {},
   "source": [
    "MSE calculations for given window size and etc. for the next 1 to 3 hours then next 2, 4, 6 steps"
   ]
  },
  {
   "cell_type": "code",
   "execution_count": 54,
   "metadata": {},
   "outputs": [],
   "source": [
    "def return_time(window_size,test_size,valid_size,epochs,learning_rate, save_model = False, batch_size = 32, shuffle = True, name_of_file = \"lstm\"):\n",
    "    \n",
    "    MSE_humid = []\n",
    "    MAE_humid = []\n",
    "\n",
    "    MSE_wind = []\n",
    "    MAE_wind = []\n",
    "    \n",
    "    MSE_temp = []\n",
    "    MAE_temp = []\n",
    "\n",
    "    bias_relh = []\n",
    "    bias_skph = []\n",
    "    bias_temp = []\n",
    "\n",
    "    # MSE calculations for given window size and etc. in next 1 to 3 next hours\n",
    "    # last_pred_hour == 3 means that predictions are from +1 hour till +3 hours\n",
    "    last_pred_hour = 6\n",
    "    for hour in range(1,last_pred_hour,2): # cause every data timestamp is in 30 min distance\n",
    "        # (hour == 1) it means that predictions will be made for next one hour\n",
    "        X_train, y_train, X_val, y_val, X_test, y_test,training_mean, training_std = transform_and_split_data(all_data.copy(), window_size, test_size, valid_size, hour) \n",
    "        X_test.size\n",
    "        model = LSTM_model(X_train, y_train, X_val, y_val, epochs, learning_rate, window_size, batch_size, shuffle)\n",
    "\n",
    "        ## save as binary file .pkl\n",
    "        if(save_model):\n",
    "            file_name = 'lstm_models/' + name_of_file + str(int((hour+1)/2)) + \".pkl\"\n",
    "            with open(file_name, \"xb\") as f_1:\n",
    "                pickle.dump(model, f_1, -1)\n",
    "\n",
    "        pred, actaul = make_predictions(model, X_test, y_test,  training_mean, training_std)\n",
    "        MSE_humid.append(mean_squared_error(actaul[0], pred[0]))\n",
    "        MAE_humid.append(mean_absolute_error(actaul[0], pred[0]))\n",
    "        MSE_wind.append(mean_squared_error(actaul[1], pred[1]))\n",
    "        MAE_wind.append(mean_absolute_error(actaul[1], pred[1]))\n",
    "        MSE_temp.append(mean_squared_error(actaul[2], pred[2]))\n",
    "        MAE_temp.append(mean_absolute_error(actaul[2], pred[2]))\n",
    "\n",
    "\n",
    "        bias_relh.append(sum(pred[0] - actaul[0])/len(pred[0]))\n",
    "        bias_skph.append(sum(pred[1] - actaul[1])/len(pred[0]))\n",
    "        bias_temp.append(sum(pred[2] - actaul[2])/len(pred[0]))\n",
    "\n",
    "\n",
    "    return MSE_humid, MAE_humid, MSE_wind, MAE_wind, MSE_temp, MAE_temp, pred, actaul, bias_relh, bias_skph, bias_temp"
   ]
  },
  {
   "cell_type": "markdown",
   "metadata": {},
   "source": [
    "# Test for 6 and then 12 timestamps (3 and 6 hours)"
   ]
  },
  {
   "cell_type": "code",
   "execution_count": 55,
   "metadata": {},
   "outputs": [],
   "source": [
    "# test_size = 0.15\n",
    "# valid_size = 0.15\n",
    "# epochs = 12\n",
    "# learning_rate=0.001\n",
    "\n",
    "# window_size = 6\n",
    "# MSE_humid_6, MAE_humid_6, MSE_wind_6, MAE_wind_6, MSE_temp_6, MAE_temp_6, pred_6, actaul_6  = return_time(window_size,test_size,valid_size,epochs,learning_rate)\n",
    "# window_size = 12\n",
    "# MSE_humid_12, MAE_humid_12, MSE_wind_12, MAE_wind_12, MSE_temp_12, MAE_temp_12, pred_12, actaul_12  = return_time(window_size,test_size,valid_size,epochs,learning_rate)"
   ]
  },
  {
   "cell_type": "code",
   "execution_count": 56,
   "metadata": {},
   "outputs": [],
   "source": [
    "# plt.plot(MAE_temp_6,'g')\n",
    "# plt.plot(MAE_temp_12,'r')\n",
    "# plt.title(\"MSE for different hours and models with different window size - temperature\")\n",
    "# plt.xlabel(\"hour\")\n",
    "# plt.ylabel(\"MSE\")"
   ]
  },
  {
   "cell_type": "code",
   "execution_count": 57,
   "metadata": {},
   "outputs": [],
   "source": [
    "# plt.plot(MAE_wind_6,'g')\n",
    "# plt.plot(MAE_wind_12,'r')\n",
    "# plt.title(\"MSE for different hours and models with different window size - wind\")\n",
    "# plt.xlabel(\"hour\")\n",
    "# plt.ylabel(\"MSE\")"
   ]
  },
  {
   "cell_type": "code",
   "execution_count": 58,
   "metadata": {},
   "outputs": [],
   "source": [
    "# plt.plot(MAE_humid_6,'g')\n",
    "# plt.plot(MAE_humid_12,'r')\n",
    "# plt.title(\"MSE for different hours and models with different window size - humid\")\n",
    "# plt.xlabel(\"hour\")\n",
    "# plt.ylabel(\"MSE\")"
   ]
  },
  {
   "cell_type": "markdown",
   "metadata": {},
   "source": [
    "###  Training data save"
   ]
  },
  {
   "cell_type": "code",
   "execution_count": 59,
   "metadata": {},
   "outputs": [],
   "source": [
    "# # relh\t skph \ttemp\n",
    "# data = pd.DataFrame()\n",
    "# data['MAE_humid_6'] = MAE_humid_6\n",
    "# data['MAE_wind_6'] = MAE_wind_6\n",
    "# data['MAE_temp_6'] = MAE_temp_6\n",
    "# data['MAE_humid_12'] = MAE_humid_12\n",
    "# data['MAE_wind_12'] = MAE_wind_12\n",
    "# data['MAE_temp_12'] = MAE_temp_12\n",
    "\n",
    "# data.to_csv(\"data_each_30_min\")"
   ]
  },
  {
   "cell_type": "markdown",
   "metadata": {},
   "source": [
    "# Models: 12 previous steps for 3 next hours predictions"
   ]
  },
  {
   "cell_type": "code",
   "execution_count": 60,
   "metadata": {},
   "outputs": [
    {
     "name": "stdout",
     "output_type": "stream",
     "text": [
      "Epoch 1/12\n",
      "3154/3154 [==============================] - 23s 7ms/step - loss: 0.1225 - root_mean_squared_error: 0.3500 - val_loss: 0.0976 - val_root_mean_squared_error: 0.3124\n",
      "Epoch 2/12\n",
      "3154/3154 [==============================] - 20s 6ms/step - loss: 0.1084 - root_mean_squared_error: 0.3293 - val_loss: 0.0937 - val_root_mean_squared_error: 0.3061\n",
      "Epoch 3/12\n",
      "3154/3154 [==============================] - 20s 6ms/step - loss: 0.1063 - root_mean_squared_error: 0.3261 - val_loss: 0.1006 - val_root_mean_squared_error: 0.3171\n",
      "Epoch 4/12\n",
      "3154/3154 [==============================] - 21s 7ms/step - loss: 0.1053 - root_mean_squared_error: 0.3245 - val_loss: 0.0936 - val_root_mean_squared_error: 0.3059\n",
      "Epoch 5/12\n",
      "3154/3154 [==============================] - 21s 7ms/step - loss: 0.1043 - root_mean_squared_error: 0.3230 - val_loss: 0.1026 - val_root_mean_squared_error: 0.3203\n",
      "Epoch 6/12\n",
      "3154/3154 [==============================] - 23s 7ms/step - loss: 0.1039 - root_mean_squared_error: 0.3223 - val_loss: 0.0950 - val_root_mean_squared_error: 0.3083\n",
      "Epoch 7/12\n",
      "3154/3154 [==============================] - 21s 7ms/step - loss: 0.1033 - root_mean_squared_error: 0.3214 - val_loss: 0.0991 - val_root_mean_squared_error: 0.3147\n",
      "Epoch 8/12\n",
      "3154/3154 [==============================] - 21s 7ms/step - loss: 0.1026 - root_mean_squared_error: 0.3204 - val_loss: 0.0986 - val_root_mean_squared_error: 0.3141\n",
      "Epoch 9/12\n",
      "3154/3154 [==============================] - 22s 7ms/step - loss: 0.1024 - root_mean_squared_error: 0.3199 - val_loss: 0.0961 - val_root_mean_squared_error: 0.3099\n",
      "Epoch 10/12\n",
      "3154/3154 [==============================] - 20s 6ms/step - loss: 0.1021 - root_mean_squared_error: 0.3195 - val_loss: 0.1040 - val_root_mean_squared_error: 0.3225\n",
      "Epoch 11/12\n",
      "3154/3154 [==============================] - 21s 7ms/step - loss: 0.1017 - root_mean_squared_error: 0.3189 - val_loss: 0.0984 - val_root_mean_squared_error: 0.3136\n",
      "Epoch 12/12\n",
      "3154/3154 [==============================] - 20s 6ms/step - loss: 0.1016 - root_mean_squared_error: 0.3188 - val_loss: 0.1020 - val_root_mean_squared_error: 0.3193\n",
      "676/676 [==============================] - 2s 3ms/step\n",
      "Epoch 1/12\n",
      "3154/3154 [==============================] - 22s 6ms/step - loss: 0.1887 - root_mean_squared_error: 0.4344 - val_loss: 0.1613 - val_root_mean_squared_error: 0.4016\n",
      "Epoch 2/12\n",
      "3154/3154 [==============================] - 19s 6ms/step - loss: 0.1699 - root_mean_squared_error: 0.4121 - val_loss: 0.1593 - val_root_mean_squared_error: 0.3991\n",
      "Epoch 3/12\n",
      "3154/3154 [==============================] - 19s 6ms/step - loss: 0.1666 - root_mean_squared_error: 0.4082 - val_loss: 0.1568 - val_root_mean_squared_error: 0.3959\n",
      "Epoch 4/12\n",
      "3154/3154 [==============================] - 20s 6ms/step - loss: 0.1647 - root_mean_squared_error: 0.4059 - val_loss: 0.1538 - val_root_mean_squared_error: 0.3921\n",
      "Epoch 5/12\n",
      "3154/3154 [==============================] - 20s 6ms/step - loss: 0.1633 - root_mean_squared_error: 0.4041 - val_loss: 0.1565 - val_root_mean_squared_error: 0.3957\n",
      "Epoch 6/12\n",
      "3154/3154 [==============================] - 20s 6ms/step - loss: 0.1621 - root_mean_squared_error: 0.4027 - val_loss: 0.1541 - val_root_mean_squared_error: 0.3926\n",
      "Epoch 7/12\n",
      "3154/3154 [==============================] - 19s 6ms/step - loss: 0.1613 - root_mean_squared_error: 0.4016 - val_loss: 0.1534 - val_root_mean_squared_error: 0.3917\n",
      "Epoch 8/12\n",
      "3154/3154 [==============================] - 20s 6ms/step - loss: 0.1605 - root_mean_squared_error: 0.4006 - val_loss: 0.1559 - val_root_mean_squared_error: 0.3948\n",
      "Epoch 9/12\n",
      "3154/3154 [==============================] - 20s 6ms/step - loss: 0.1596 - root_mean_squared_error: 0.3995 - val_loss: 0.1534 - val_root_mean_squared_error: 0.3916\n",
      "Epoch 10/12\n",
      "3154/3154 [==============================] - 20s 6ms/step - loss: 0.1586 - root_mean_squared_error: 0.3982 - val_loss: 0.1519 - val_root_mean_squared_error: 0.3898\n",
      "Epoch 11/12\n",
      "3154/3154 [==============================] - 28s 9ms/step - loss: 0.1580 - root_mean_squared_error: 0.3975 - val_loss: 0.1531 - val_root_mean_squared_error: 0.3913\n",
      "Epoch 12/12\n",
      "3154/3154 [==============================] - 30s 9ms/step - loss: 0.1573 - root_mean_squared_error: 0.3966 - val_loss: 0.1547 - val_root_mean_squared_error: 0.3934\n",
      "676/676 [==============================] - 4s 4ms/step\n",
      "Epoch 1/12\n",
      "3154/3154 [==============================] - 34s 9ms/step - loss: 0.2588 - root_mean_squared_error: 0.5088 - val_loss: 0.2294 - val_root_mean_squared_error: 0.4790\n",
      "Epoch 2/12\n",
      "3154/3154 [==============================] - 30s 9ms/step - loss: 0.2349 - root_mean_squared_error: 0.4846 - val_loss: 0.2255 - val_root_mean_squared_error: 0.4749\n",
      "Epoch 3/12\n",
      "3154/3154 [==============================] - 32s 10ms/step - loss: 0.2301 - root_mean_squared_error: 0.4797 - val_loss: 0.2219 - val_root_mean_squared_error: 0.4711\n",
      "Epoch 4/12\n",
      "3154/3154 [==============================] - 31s 10ms/step - loss: 0.2269 - root_mean_squared_error: 0.4763 - val_loss: 0.2232 - val_root_mean_squared_error: 0.4725\n",
      "Epoch 5/12\n",
      "3154/3154 [==============================] - 31s 10ms/step - loss: 0.2249 - root_mean_squared_error: 0.4742 - val_loss: 0.2202 - val_root_mean_squared_error: 0.4692\n",
      "Epoch 6/12\n",
      "3154/3154 [==============================] - 33s 10ms/step - loss: 0.2230 - root_mean_squared_error: 0.4722 - val_loss: 0.2212 - val_root_mean_squared_error: 0.4703\n",
      "Epoch 7/12\n",
      "3154/3154 [==============================] - 24s 8ms/step - loss: 0.2217 - root_mean_squared_error: 0.4709 - val_loss: 0.2198 - val_root_mean_squared_error: 0.4688\n",
      "Epoch 8/12\n",
      "3154/3154 [==============================] - 22s 7ms/step - loss: 0.2207 - root_mean_squared_error: 0.4698 - val_loss: 0.2173 - val_root_mean_squared_error: 0.4662\n",
      "Epoch 9/12\n",
      "3154/3154 [==============================] - 22s 7ms/step - loss: 0.2195 - root_mean_squared_error: 0.4685 - val_loss: 0.2210 - val_root_mean_squared_error: 0.4701\n",
      "Epoch 10/12\n",
      "3154/3154 [==============================] - 22s 7ms/step - loss: 0.2181 - root_mean_squared_error: 0.4670 - val_loss: 0.2178 - val_root_mean_squared_error: 0.4667\n",
      "Epoch 11/12\n",
      "3154/3154 [==============================] - 22s 7ms/step - loss: 0.2178 - root_mean_squared_error: 0.4667 - val_loss: 0.2205 - val_root_mean_squared_error: 0.4695\n",
      "Epoch 12/12\n",
      "3154/3154 [==============================] - 21s 7ms/step - loss: 0.2171 - root_mean_squared_error: 0.4659 - val_loss: 0.2191 - val_root_mean_squared_error: 0.4680\n",
      "676/676 [==============================] - 2s 3ms/step\n",
      "Epoch 1/12\n",
      "3154/3154 [==============================] - 25s 7ms/step - loss: 0.1380 - root_mean_squared_error: 0.3715 - val_loss: 0.1179 - val_root_mean_squared_error: 0.3433\n",
      "Epoch 2/12\n",
      "3154/3154 [==============================] - 22s 7ms/step - loss: 0.1126 - root_mean_squared_error: 0.3356 - val_loss: 0.1131 - val_root_mean_squared_error: 0.3363\n",
      "Epoch 3/12\n",
      "3154/3154 [==============================] - 24s 8ms/step - loss: 0.1101 - root_mean_squared_error: 0.3319 - val_loss: 0.1119 - val_root_mean_squared_error: 0.3345\n",
      "Epoch 4/12\n",
      "3154/3154 [==============================] - 24s 7ms/step - loss: 0.1088 - root_mean_squared_error: 0.3298 - val_loss: 0.1123 - val_root_mean_squared_error: 0.3352\n",
      "Epoch 5/12\n",
      "3154/3154 [==============================] - 25s 8ms/step - loss: 0.1077 - root_mean_squared_error: 0.3282 - val_loss: 0.1128 - val_root_mean_squared_error: 0.3358\n",
      "Epoch 6/12\n",
      "3154/3154 [==============================] - 26s 8ms/step - loss: 0.1071 - root_mean_squared_error: 0.3272 - val_loss: 0.1127 - val_root_mean_squared_error: 0.3357\n",
      "Epoch 7/12\n",
      "3154/3154 [==============================] - 22s 7ms/step - loss: 0.1061 - root_mean_squared_error: 0.3257 - val_loss: 0.1141 - val_root_mean_squared_error: 0.3378\n",
      "Epoch 8/12\n",
      "3154/3154 [==============================] - 21s 7ms/step - loss: 0.1052 - root_mean_squared_error: 0.3244 - val_loss: 0.1170 - val_root_mean_squared_error: 0.3421\n",
      "Epoch 9/12\n",
      "3154/3154 [==============================] - 21s 7ms/step - loss: 0.1049 - root_mean_squared_error: 0.3239 - val_loss: 0.1161 - val_root_mean_squared_error: 0.3407\n",
      "Epoch 10/12\n",
      "3154/3154 [==============================] - 22s 7ms/step - loss: 0.1041 - root_mean_squared_error: 0.3227 - val_loss: 0.1169 - val_root_mean_squared_error: 0.3420\n",
      "Epoch 11/12\n",
      "3154/3154 [==============================] - 20s 6ms/step - loss: 0.1039 - root_mean_squared_error: 0.3223 - val_loss: 0.1176 - val_root_mean_squared_error: 0.3430\n",
      "Epoch 12/12\n",
      "3154/3154 [==============================] - 21s 7ms/step - loss: 0.1036 - root_mean_squared_error: 0.3219 - val_loss: 0.1177 - val_root_mean_squared_error: 0.3431\n",
      "676/676 [==============================] - 2s 3ms/step\n",
      "Epoch 1/12\n",
      "3154/3154 [==============================] - 22s 7ms/step - loss: 0.2111 - root_mean_squared_error: 0.4595 - val_loss: 0.2373 - val_root_mean_squared_error: 0.4871\n",
      "Epoch 2/12\n",
      "3154/3154 [==============================] - 19s 6ms/step - loss: 0.1775 - root_mean_squared_error: 0.4213 - val_loss: 0.2191 - val_root_mean_squared_error: 0.4681\n",
      "Epoch 3/12\n",
      "3154/3154 [==============================] - 20s 6ms/step - loss: 0.1729 - root_mean_squared_error: 0.4159 - val_loss: 0.2158 - val_root_mean_squared_error: 0.4646\n",
      "Epoch 4/12\n",
      "3154/3154 [==============================] - 20s 6ms/step - loss: 0.1700 - root_mean_squared_error: 0.4123 - val_loss: 0.2105 - val_root_mean_squared_error: 0.4588\n",
      "Epoch 5/12\n",
      "3154/3154 [==============================] - 20s 6ms/step - loss: 0.1679 - root_mean_squared_error: 0.4098 - val_loss: 0.2053 - val_root_mean_squared_error: 0.4531\n",
      "Epoch 6/12\n",
      "3154/3154 [==============================] - 20s 6ms/step - loss: 0.1668 - root_mean_squared_error: 0.4084 - val_loss: 0.2037 - val_root_mean_squared_error: 0.4513\n",
      "Epoch 7/12\n",
      "3154/3154 [==============================] - 21s 7ms/step - loss: 0.1657 - root_mean_squared_error: 0.4071 - val_loss: 0.1956 - val_root_mean_squared_error: 0.4423\n",
      "Epoch 8/12\n",
      "3154/3154 [==============================] - 26s 8ms/step - loss: 0.1648 - root_mean_squared_error: 0.4060 - val_loss: 0.1983 - val_root_mean_squared_error: 0.4453\n",
      "Epoch 9/12\n",
      "3154/3154 [==============================] - 24s 8ms/step - loss: 0.1643 - root_mean_squared_error: 0.4053 - val_loss: 0.1963 - val_root_mean_squared_error: 0.4431\n",
      "Epoch 10/12\n",
      "3154/3154 [==============================] - 22s 7ms/step - loss: 0.1631 - root_mean_squared_error: 0.4039 - val_loss: 0.1938 - val_root_mean_squared_error: 0.4402\n",
      "Epoch 11/12\n",
      "3154/3154 [==============================] - 22s 7ms/step - loss: 0.1628 - root_mean_squared_error: 0.4035 - val_loss: 0.1894 - val_root_mean_squared_error: 0.4352\n",
      "Epoch 12/12\n",
      "3154/3154 [==============================] - 22s 7ms/step - loss: 0.1624 - root_mean_squared_error: 0.4029 - val_loss: 0.1893 - val_root_mean_squared_error: 0.4350\n",
      "676/676 [==============================] - 3s 4ms/step\n",
      "Epoch 1/12\n",
      "3154/3154 [==============================] - 24s 7ms/step - loss: 0.2818 - root_mean_squared_error: 0.5309 - val_loss: 0.3884 - val_root_mean_squared_error: 0.6232\n",
      "Epoch 2/12\n",
      "3154/3154 [==============================] - 21s 7ms/step - loss: 0.2454 - root_mean_squared_error: 0.4954 - val_loss: 0.3522 - val_root_mean_squared_error: 0.5935\n",
      "Epoch 3/12\n",
      "3154/3154 [==============================] - 22s 7ms/step - loss: 0.2388 - root_mean_squared_error: 0.4887 - val_loss: 0.3278 - val_root_mean_squared_error: 0.5725\n",
      "Epoch 4/12\n",
      "3154/3154 [==============================] - 35s 11ms/step - loss: 0.2347 - root_mean_squared_error: 0.4845 - val_loss: 0.3283 - val_root_mean_squared_error: 0.5729\n",
      "Epoch 5/12\n",
      "3154/3154 [==============================] - 35s 11ms/step - loss: 0.2320 - root_mean_squared_error: 0.4816 - val_loss: 0.3160 - val_root_mean_squared_error: 0.5621\n",
      "Epoch 6/12\n",
      "3154/3154 [==============================] - 30s 10ms/step - loss: 0.2298 - root_mean_squared_error: 0.4794 - val_loss: 0.3113 - val_root_mean_squared_error: 0.5580\n",
      "Epoch 7/12\n",
      "3154/3154 [==============================] - 22s 7ms/step - loss: 0.2279 - root_mean_squared_error: 0.4774 - val_loss: 0.3069 - val_root_mean_squared_error: 0.5540\n",
      "Epoch 8/12\n",
      "3154/3154 [==============================] - 21s 7ms/step - loss: 0.2261 - root_mean_squared_error: 0.4755 - val_loss: 0.3012 - val_root_mean_squared_error: 0.5489\n",
      "Epoch 9/12\n",
      "3154/3154 [==============================] - 22s 7ms/step - loss: 0.2249 - root_mean_squared_error: 0.4743 - val_loss: 0.2928 - val_root_mean_squared_error: 0.5411\n",
      "Epoch 10/12\n",
      "3154/3154 [==============================] - 21s 7ms/step - loss: 0.2238 - root_mean_squared_error: 0.4730 - val_loss: 0.2921 - val_root_mean_squared_error: 0.5404\n",
      "Epoch 11/12\n",
      "3154/3154 [==============================] - 22s 7ms/step - loss: 0.2231 - root_mean_squared_error: 0.4723 - val_loss: 0.2883 - val_root_mean_squared_error: 0.5369\n",
      "Epoch 12/12\n",
      "3154/3154 [==============================] - 21s 7ms/step - loss: 0.2220 - root_mean_squared_error: 0.4711 - val_loss: 0.2823 - val_root_mean_squared_error: 0.5314\n",
      "676/676 [==============================] - 2s 3ms/step\n"
     ]
    }
   ],
   "source": [
    "test_size = 0.15\n",
    "valid_size = 0.15\n",
    "epochs = 12\n",
    "learning_rate=0.001\n",
    "batch_size = 32\n",
    "\n",
    "# with data shuffle\n",
    "window_size = 12\n",
    "MSE_humid_12, MAE_humid_12, MSE_wind_12, MAE_wind_12, MSE_temp_12, MAE_temp_12, pred_12, actaul_12, bias_relh, bias_skph, bias_temp  = return_time(window_size,test_size,valid_size,epochs,learning_rate, True, batch_size, True)\n",
    "\n",
    "# without data shuffle\n",
    "window_size = 12\n",
    "MSE_humid_12_dns, MAE_humid_12_dns, MSE_wind_12_dns, MAE_wind_12_dns, MSE_temp_12_dns, MAE_temp_12_dns, pred_12_dns, actaul_12_dns, bias_relh_dns, bias_skph_dns, bias_temp_dns  = return_time(window_size,test_size,valid_size,epochs,learning_rate, True, batch_size, False, \"lstm_for_update\")"
   ]
  },
  {
   "cell_type": "code",
   "execution_count": 61,
   "metadata": {},
   "outputs": [
    {
     "data": {
      "text/plain": [
       "Text(0.5, 1.0, 'temperature')"
      ]
     },
     "execution_count": 61,
     "metadata": {},
     "output_type": "execute_result"
    },
    {
     "data": {
      "image/png": "[encoded data removed]",
      "text/plain": [
       "<Figure size 640x480 with 3 Axes>"
      ]
     },
     "metadata": {},
     "output_type": "display_data"
    }
   ],
   "source": [
    "# with and without data shuffle\n",
    "fig, axs = plt.subplots(3)\n",
    "fig.suptitle('MAE for shuffle (red) and no shuffle (green) data input, x: hour [1,2,3], y: MAE value')\n",
    "fig.tight_layout(pad=1.8)\n",
    "\n",
    "axs[0].plot(MAE_humid_12,'r')\n",
    "axs[0].plot(MAE_humid_12_dns,'g')\n",
    "axs[0].set_title('relative humidity')\n",
    "\n",
    "axs[1].plot(MAE_wind_12,'r')\n",
    "axs[1].plot(MAE_wind_12_dns,'g')\n",
    "axs[1].set_title('speed of wind')\n",
    "\n",
    "axs[2].plot(MAE_temp_12,'r')\n",
    "axs[2].plot(MAE_temp_12_dns,'g')\n",
    "axs[2].set_title('temperature')\n"
   ]
  },
  {
   "cell_type": "markdown",
   "metadata": {},
   "source": [
    "# Mean and std save - cause above model (shuffle) is being chosen for predictions in pipeline"
   ]
  },
  {
   "cell_type": "code",
   "execution_count": 62,
   "metadata": {},
   "outputs": [],
   "source": [
    "test_size = 0.15\n",
    "valid_size = 0.15\n",
    "epochs = 12\n",
    "learning_rate=0.001\n",
    "\n",
    "X_train, y_train, X_val, y_val, X_test, y_test, mean, std = transform_and_split_data(all_data.copy(), window_size, test_size, valid_size, 0)"
   ]
  },
  {
   "cell_type": "code",
   "execution_count": 63,
   "metadata": {},
   "outputs": [
    {
     "name": "stdout",
     "output_type": "stream",
     "text": [
      "[76.89510779021957, 11.843569852039936, 9.335968539408992]\n",
      "[18.583363048546722, 7.771864068320906, 8.958479911528652]\n"
     ]
    }
   ],
   "source": [
    "print(mean)\n",
    "print(std)"
   ]
  },
  {
   "cell_type": "code",
   "execution_count": 64,
   "metadata": {},
   "outputs": [],
   "source": [
    "mean_and_std = pd.DataFrame()\n",
    "mean_and_std['mean'] = mean\n",
    "mean_and_std['std'] = std\n",
    "# save data to lstm_models folder\n",
    "mean_and_std.to_csv(\"lstm_models/mean_and_std\")"
   ]
  },
  {
   "cell_type": "code",
   "execution_count": 65,
   "metadata": {},
   "outputs": [
    {
     "name": "stdout",
     "output_type": "stream",
     "text": [
      "mean_and_std.pkl\n"
     ]
    }
   ],
   "source": [
    "file_name = \"mean_and_std.pkl\"\n",
    "print(file_name)\n",
    "with open(file_name, \"ab\") as f_1:\n",
    "    pickle.dump(mean_and_std, f_1, -1)"
   ]
  },
  {
   "cell_type": "markdown",
   "metadata": {},
   "source": [
    "### Bias for last model - biases addition to the .pkl files"
   ]
  },
  {
   "cell_type": "code",
   "execution_count": 66,
   "metadata": {},
   "outputs": [
    {
     "name": "stdout",
     "output_type": "stream",
     "text": [
      "[0.8314847371367433, 0.8029197120737057, 1.053500633970632]\n",
      "[-0.31474520528865374, -0.5840614540861835, -0.2861799599849521]\n",
      "[-0.9974367707264418, -0.08810468770009154, -0.09368924753407488]\n"
     ]
    }
   ],
   "source": [
    "print(bias_relh)\n",
    "print(bias_skph)\n",
    "print(bias_temp)"
   ]
  },
  {
   "cell_type": "code",
   "execution_count": 67,
   "metadata": {},
   "outputs": [],
   "source": [
    "# relh\t skph \ttemp\n",
    "biases = pd.DataFrame()\n",
    "biases['humid'] = bias_relh\n",
    "biases['wind'] = bias_skph\n",
    "biases['temp'] = bias_temp\n",
    "# save data to lstm_models folder\n",
    "biases.to_csv(\"lstm_models/biases_lstm\")"
   ]
  },
  {
   "cell_type": "code",
   "execution_count": 68,
   "metadata": {},
   "outputs": [
    {
     "name": "stdout",
     "output_type": "stream",
     "text": [
      "lstm_models/lstm1.pkl\n",
      "lstm_models/lstm2.pkl\n",
      "lstm_models/lstm3.pkl\n"
     ]
    }
   ],
   "source": [
    "for i in range(3):\n",
    "        file_name = 'lstm_models/' + \"lstm\" + (str)(i+1) + \".pkl\"\n",
    "        print(file_name)\n",
    "        with open(file_name, \"ab\") as f_1:\n",
    "                pickle.dump(biases[biases.index==i], f_1, -1)"
   ]
  }
 ],
 "metadata": {
  "kernelspec": {
   "display_name": "Python 3",
   "language": "python",
   "name": "python3"
  },
  "language_info": {
   "codemirror_mode": {
    "name": "ipython",
    "version": 3
   },
   "file_extension": ".py",
   "mimetype": "text/x-python",
   "name": "python",
   "nbconvert_exporter": "python",
   "pygments_lexer": "ipython3",
   "version": "3.10.5"
  }
 },
 "nbformat": 4,
 "nbformat_minor": 2
}
