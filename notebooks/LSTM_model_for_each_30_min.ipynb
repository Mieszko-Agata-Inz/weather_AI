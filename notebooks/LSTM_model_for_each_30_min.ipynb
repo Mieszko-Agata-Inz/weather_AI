{
 "cells": [
  {
   "cell_type": "markdown",
   "metadata": {},
   "source": [
    "# LSTM model - step: half of hour"
   ]
  },
  {
   "cell_type": "markdown",
   "metadata": {},
   "source": [
    "Libraries import"
   ]
  },
  {
   "cell_type": "code",
   "execution_count": 1,
   "metadata": {},
   "outputs": [],
   "source": [
    "import pandas as pd\n",
    "import matplotlib.pyplot as plt\n",
    "import numpy as np\n",
    "import pickle\n",
    "\n",
    "from sklearn.metrics import mean_squared_error, mean_absolute_error"
   ]
  },
  {
   "cell_type": "code",
   "execution_count": 2,
   "metadata": {},
   "outputs": [],
   "source": [
    "from different_functions import transform_and_split_data, LSTM_model, transform_and_split_data, make_predictions"
   ]
  },
  {
   "cell_type": "markdown",
   "metadata": {},
   "source": [
    "CSV file reading"
   ]
  },
  {
   "cell_type": "code",
   "execution_count": 3,
   "metadata": {},
   "outputs": [],
   "source": [
    "# Read the CSV file\n",
    "all_data = pd.read_csv(\"data_for_main_model/data_ready_for_training.csv\")\n",
    "all_data.drop('Unnamed: 0',axis='columns', inplace=True)\n",
    "all_data = all_data[[\"relh\", \"skph\", \"temp\", \"minutes\"]]"
   ]
  },
  {
   "cell_type": "code",
   "execution_count": 4,
   "metadata": {},
   "outputs": [
    {
     "data": {
      "text/html": [
       "<div>\n",
       "<style scoped>\n",
       "    .dataframe tbody tr th:only-of-type {\n",
       "        vertical-align: middle;\n",
       "    }\n",
       "\n",
       "    .dataframe tbody tr th {\n",
       "        vertical-align: top;\n",
       "    }\n",
       "\n",
       "    .dataframe thead th {\n",
       "        text-align: right;\n",
       "    }\n",
       "</style>\n",
       "<table border=\"1\" class=\"dataframe\">\n",
       "  <thead>\n",
       "    <tr style=\"text-align: right;\">\n",
       "      <th></th>\n",
       "      <th>relh</th>\n",
       "      <th>skph</th>\n",
       "      <th>temp</th>\n",
       "      <th>minutes</th>\n",
       "    </tr>\n",
       "  </thead>\n",
       "  <tbody>\n",
       "    <tr>\n",
       "      <th>0</th>\n",
       "      <td>100.0</td>\n",
       "      <td>0.000</td>\n",
       "      <td>-2.0</td>\n",
       "      <td>0</td>\n",
       "    </tr>\n",
       "    <tr>\n",
       "      <th>1</th>\n",
       "      <td>100.0</td>\n",
       "      <td>0.000</td>\n",
       "      <td>-2.0</td>\n",
       "      <td>30</td>\n",
       "    </tr>\n",
       "    <tr>\n",
       "      <th>2</th>\n",
       "      <td>100.0</td>\n",
       "      <td>3.704</td>\n",
       "      <td>-2.0</td>\n",
       "      <td>0</td>\n",
       "    </tr>\n",
       "    <tr>\n",
       "      <th>3</th>\n",
       "      <td>100.0</td>\n",
       "      <td>0.000</td>\n",
       "      <td>-2.0</td>\n",
       "      <td>30</td>\n",
       "    </tr>\n",
       "    <tr>\n",
       "      <th>4</th>\n",
       "      <td>100.0</td>\n",
       "      <td>5.556</td>\n",
       "      <td>-3.0</td>\n",
       "      <td>0</td>\n",
       "    </tr>\n",
       "  </tbody>\n",
       "</table>\n",
       "</div>"
      ],
      "text/plain": [
       "    relh   skph  temp  minutes\n",
       "0  100.0  0.000  -2.0        0\n",
       "1  100.0  0.000  -2.0       30\n",
       "2  100.0  3.704  -2.0        0\n",
       "3  100.0  0.000  -2.0       30\n",
       "4  100.0  5.556  -3.0        0"
      ]
     },
     "execution_count": 4,
     "metadata": {},
     "output_type": "execute_result"
    }
   ],
   "source": [
    "all_data.head()"
   ]
  },
  {
   "cell_type": "code",
   "execution_count": 5,
   "metadata": {},
   "outputs": [],
   "source": [
    "# every 30 min\n",
    "all_data.drop('minutes',axis='columns', inplace=True)"
   ]
  },
  {
   "cell_type": "markdown",
   "metadata": {},
   "source": [
    "MSE calculations for given window size and etc. for the next 1 to 3 hours then next 2, 4, 6 steps"
   ]
  },
  {
   "cell_type": "code",
   "execution_count": 6,
   "metadata": {},
   "outputs": [],
   "source": [
    "def return_time(window_size,test_size,valid_size,epochs,learning_rate, save_model = False, batch_size = 32, shuffle = True, name_of_file = \"lstm\"):\n",
    "    \n",
    "    MSE_humid = []\n",
    "    MAE_humid = []\n",
    "\n",
    "    MSE_wind = []\n",
    "    MAE_wind = []\n",
    "    \n",
    "    MSE_temp = []\n",
    "    MAE_temp = []\n",
    "\n",
    "    bias_relh = []\n",
    "    bias_skph = []\n",
    "    bias_temp = []\n",
    "\n",
    "    # MSE calculations for given window size and etc. in next 1 to 3 next hours\n",
    "    # last_pred_hour == 3 means that predictions are from +1 hour till +3 hours\n",
    "    last_pred_hour = 6\n",
    "    for hour in range(1,last_pred_hour,2): # cause every data timestamp is in 30 min distance\n",
    "        # (hour == 1) it means that predictions will be made for next one hour\n",
    "        X_train, y_train, X_val, y_val, X_test, y_test,training_mean, training_std = transform_and_split_data(all_data.copy(), window_size, test_size, valid_size, hour) \n",
    "        X_test.size\n",
    "        model = LSTM_model(X_train, y_train, X_val, y_val, epochs, learning_rate, window_size, batch_size, shuffle)\n",
    "\n",
    "        ## save as binary file .pkl\n",
    "        if(save_model):\n",
    "            file_name = 'lstm_models/' + name_of_file + str(int((hour+1)/2)) + \".pkl\"\n",
    "            with open(file_name, \"xb\") as f_1:\n",
    "                pickle.dump(model, f_1, -1)\n",
    "\n",
    "        pred, actaul = make_predictions(model, X_test, y_test,  training_mean, training_std)\n",
    "        MSE_humid.append(mean_squared_error(actaul[0], pred[0]))\n",
    "        MAE_humid.append(mean_absolute_error(actaul[0], pred[0]))\n",
    "        MSE_wind.append(mean_squared_error(actaul[1], pred[1]))\n",
    "        MAE_wind.append(mean_absolute_error(actaul[1], pred[1]))\n",
    "        MSE_temp.append(mean_squared_error(actaul[2], pred[2]))\n",
    "        MAE_temp.append(mean_absolute_error(actaul[2], pred[2]))\n",
    "\n",
    "\n",
    "        bias_relh.append(sum(pred[0] - actaul[0])/len(pred[0]))\n",
    "        bias_skph.append(sum(pred[1] - actaul[1])/len(pred[0]))\n",
    "        bias_temp.append(sum(pred[2] - actaul[2])/len(pred[0]))\n",
    "\n",
    "\n",
    "    return MSE_humid, MAE_humid, MSE_wind, MAE_wind, MSE_temp, MAE_temp, pred, actaul, bias_relh, bias_skph, bias_temp"
   ]
  },
  {
   "cell_type": "markdown",
   "metadata": {},
   "source": [
    "# Test for 6 and then 12 timestamps (3 and 6 hours)"
   ]
  },
  {
   "cell_type": "code",
   "execution_count": 7,
   "metadata": {},
   "outputs": [],
   "source": [
    "# test_size = 0.15\n",
    "# valid_size = 0.15\n",
    "# epochs = 12\n",
    "# learning_rate=0.001\n",
    "\n",
    "# window_size = 6\n",
    "# MSE_humid_6, MAE_humid_6, MSE_wind_6, MAE_wind_6, MSE_temp_6, MAE_temp_6, pred_6, actaul_6  = return_time(window_size,test_size,valid_size,epochs,learning_rate)\n",
    "# window_size = 12\n",
    "# MSE_humid_12, MAE_humid_12, MSE_wind_12, MAE_wind_12, MSE_temp_12, MAE_temp_12, pred_12, actaul_12  = return_time(window_size,test_size,valid_size,epochs,learning_rate)"
   ]
  },
  {
   "cell_type": "code",
   "execution_count": 8,
   "metadata": {},
   "outputs": [],
   "source": [
    "# plt.plot(MAE_temp_6,'g')\n",
    "# plt.plot(MAE_temp_12,'r')\n",
    "# plt.title(\"MSE for different hours and models with different window size - temperature\")\n",
    "# plt.xlabel(\"hour\")\n",
    "# plt.ylabel(\"MSE\")"
   ]
  },
  {
   "cell_type": "code",
   "execution_count": 9,
   "metadata": {},
   "outputs": [],
   "source": [
    "# plt.plot(MAE_wind_6,'g')\n",
    "# plt.plot(MAE_wind_12,'r')\n",
    "# plt.title(\"MSE for different hours and models with different window size - wind\")\n",
    "# plt.xlabel(\"hour\")\n",
    "# plt.ylabel(\"MSE\")"
   ]
  },
  {
   "cell_type": "code",
   "execution_count": 10,
   "metadata": {},
   "outputs": [],
   "source": [
    "# plt.plot(MAE_humid_6,'g')\n",
    "# plt.plot(MAE_humid_12,'r')\n",
    "# plt.title(\"MSE for different hours and models with different window size - humid\")\n",
    "# plt.xlabel(\"hour\")\n",
    "# plt.ylabel(\"MSE\")"
   ]
  },
  {
   "cell_type": "markdown",
   "metadata": {},
   "source": [
    "###  Training data save"
   ]
  },
  {
   "cell_type": "code",
   "execution_count": 11,
   "metadata": {},
   "outputs": [],
   "source": [
    "# # relh\t skph \ttemp\n",
    "# data = pd.DataFrame()\n",
    "# data['MAE_humid_6'] = MAE_humid_6\n",
    "# data['MAE_wind_6'] = MAE_wind_6\n",
    "# data['MAE_temp_6'] = MAE_temp_6\n",
    "# data['MAE_humid_12'] = MAE_humid_12\n",
    "# data['MAE_wind_12'] = MAE_wind_12\n",
    "# data['MAE_temp_12'] = MAE_temp_12\n",
    "\n",
    "# data.to_csv(\"data_each_30_min\")"
   ]
  },
  {
   "cell_type": "markdown",
   "metadata": {},
   "source": [
    "# Models: 12 previous steps for 3 next hours predictions"
   ]
  },
  {
   "cell_type": "code",
   "execution_count": 12,
   "metadata": {},
   "outputs": [
    {
     "name": "stdout",
     "output_type": "stream",
     "text": [
      "Epoch 1/12\n",
      "3154/3154 [==============================] - 22s 6ms/step - loss: 0.1374 - root_mean_squared_error: 0.3707 - val_loss: 0.1197 - val_root_mean_squared_error: 0.3460\n",
      "Epoch 2/12\n",
      "3154/3154 [==============================] - 19s 6ms/step - loss: 0.1125 - root_mean_squared_error: 0.3354 - val_loss: 0.1124 - val_root_mean_squared_error: 0.3352\n",
      "Epoch 3/12\n",
      "3154/3154 [==============================] - 19s 6ms/step - loss: 0.1103 - root_mean_squared_error: 0.3321 - val_loss: 0.1099 - val_root_mean_squared_error: 0.3315\n",
      "Epoch 4/12\n",
      "3154/3154 [==============================] - 19s 6ms/step - loss: 0.1090 - root_mean_squared_error: 0.3302 - val_loss: 0.1107 - val_root_mean_squared_error: 0.3327\n",
      "Epoch 5/12\n",
      "3154/3154 [==============================] - 19s 6ms/step - loss: 0.1081 - root_mean_squared_error: 0.3288 - val_loss: 0.1090 - val_root_mean_squared_error: 0.3302\n",
      "Epoch 6/12\n",
      "3154/3154 [==============================] - 19s 6ms/step - loss: 0.1071 - root_mean_squared_error: 0.3272 - val_loss: 0.1082 - val_root_mean_squared_error: 0.3290\n",
      "Epoch 7/12\n",
      "3154/3154 [==============================] - 19s 6ms/step - loss: 0.1065 - root_mean_squared_error: 0.3263 - val_loss: 0.1061 - val_root_mean_squared_error: 0.3257\n",
      "Epoch 8/12\n",
      "3154/3154 [==============================] - 19s 6ms/step - loss: 0.1061 - root_mean_squared_error: 0.3257 - val_loss: 0.1077 - val_root_mean_squared_error: 0.3282\n",
      "Epoch 9/12\n",
      "3154/3154 [==============================] - 19s 6ms/step - loss: 0.1057 - root_mean_squared_error: 0.3251 - val_loss: 0.1060 - val_root_mean_squared_error: 0.3255\n",
      "Epoch 10/12\n",
      "3154/3154 [==============================] - 19s 6ms/step - loss: 0.1054 - root_mean_squared_error: 0.3246 - val_loss: 0.1058 - val_root_mean_squared_error: 0.3252\n",
      "Epoch 11/12\n",
      "3154/3154 [==============================] - 20s 6ms/step - loss: 0.1050 - root_mean_squared_error: 0.3240 - val_loss: 0.1065 - val_root_mean_squared_error: 0.3263\n",
      "Epoch 12/12\n",
      "3154/3154 [==============================] - 21s 7ms/step - loss: 0.1046 - root_mean_squared_error: 0.3235 - val_loss: 0.1043 - val_root_mean_squared_error: 0.3229\n",
      "676/676 [==============================] - 2s 3ms/step\n",
      "Epoch 1/12\n",
      "3154/3154 [==============================] - 24s 7ms/step - loss: 0.2082 - root_mean_squared_error: 0.4563 - val_loss: 0.2331 - val_root_mean_squared_error: 0.4828\n",
      "Epoch 2/12\n",
      "3154/3154 [==============================] - 25s 8ms/step - loss: 0.1771 - root_mean_squared_error: 0.4209 - val_loss: 0.2279 - val_root_mean_squared_error: 0.4773\n",
      "Epoch 3/12\n",
      "3154/3154 [==============================] - 23s 7ms/step - loss: 0.1728 - root_mean_squared_error: 0.4157 - val_loss: 0.2223 - val_root_mean_squared_error: 0.4715\n",
      "Epoch 4/12\n",
      "3154/3154 [==============================] - 22s 7ms/step - loss: 0.1698 - root_mean_squared_error: 0.4120 - val_loss: 0.2148 - val_root_mean_squared_error: 0.4635\n",
      "Epoch 5/12\n",
      "3154/3154 [==============================] - 21s 7ms/step - loss: 0.1681 - root_mean_squared_error: 0.4100 - val_loss: 0.2097 - val_root_mean_squared_error: 0.4580\n",
      "Epoch 6/12\n",
      "3154/3154 [==============================] - 22s 7ms/step - loss: 0.1664 - root_mean_squared_error: 0.4079 - val_loss: 0.2063 - val_root_mean_squared_error: 0.4542\n",
      "Epoch 7/12\n",
      "3154/3154 [==============================] - 20s 6ms/step - loss: 0.1653 - root_mean_squared_error: 0.4065 - val_loss: 0.1987 - val_root_mean_squared_error: 0.4457\n",
      "Epoch 8/12\n",
      "3154/3154 [==============================] - 20s 6ms/step - loss: 0.1640 - root_mean_squared_error: 0.4050 - val_loss: 0.2035 - val_root_mean_squared_error: 0.4511\n",
      "Epoch 9/12\n",
      "3154/3154 [==============================] - 20s 6ms/step - loss: 0.1628 - root_mean_squared_error: 0.4034 - val_loss: 0.1959 - val_root_mean_squared_error: 0.4426\n",
      "Epoch 10/12\n",
      "3154/3154 [==============================] - 20s 6ms/step - loss: 0.1620 - root_mean_squared_error: 0.4024 - val_loss: 0.1939 - val_root_mean_squared_error: 0.4404\n",
      "Epoch 11/12\n",
      "3154/3154 [==============================] - 20s 6ms/step - loss: 0.1610 - root_mean_squared_error: 0.4012 - val_loss: 0.1911 - val_root_mean_squared_error: 0.4372\n",
      "Epoch 12/12\n",
      "3154/3154 [==============================] - 20s 6ms/step - loss: 0.1605 - root_mean_squared_error: 0.4006 - val_loss: 0.1900 - val_root_mean_squared_error: 0.4359\n",
      "676/676 [==============================] - 2s 3ms/step\n",
      "Epoch 1/12\n",
      "3154/3154 [==============================] - 24s 7ms/step - loss: 0.2813 - root_mean_squared_error: 0.5304 - val_loss: 0.3546 - val_root_mean_squared_error: 0.5955\n",
      "Epoch 2/12\n",
      "3154/3154 [==============================] - 21s 7ms/step - loss: 0.2456 - root_mean_squared_error: 0.4956 - val_loss: 0.3461 - val_root_mean_squared_error: 0.5883\n",
      "Epoch 3/12\n",
      "3154/3154 [==============================] - 21s 7ms/step - loss: 0.2386 - root_mean_squared_error: 0.4885 - val_loss: 0.3344 - val_root_mean_squared_error: 0.5783\n",
      "Epoch 4/12\n",
      "3154/3154 [==============================] - 21s 7ms/step - loss: 0.2343 - root_mean_squared_error: 0.4841 - val_loss: 0.3306 - val_root_mean_squared_error: 0.5750\n",
      "Epoch 5/12\n",
      "3154/3154 [==============================] - 21s 7ms/step - loss: 0.2315 - root_mean_squared_error: 0.4812 - val_loss: 0.3161 - val_root_mean_squared_error: 0.5623\n",
      "Epoch 6/12\n",
      "3154/3154 [==============================] - 22s 7ms/step - loss: 0.2292 - root_mean_squared_error: 0.4787 - val_loss: 0.3071 - val_root_mean_squared_error: 0.5541\n",
      "Epoch 7/12\n",
      "3154/3154 [==============================] - 21s 7ms/step - loss: 0.2276 - root_mean_squared_error: 0.4771 - val_loss: 0.3010 - val_root_mean_squared_error: 0.5486\n",
      "Epoch 8/12\n",
      "3154/3154 [==============================] - 21s 7ms/step - loss: 0.2257 - root_mean_squared_error: 0.4750 - val_loss: 0.2947 - val_root_mean_squared_error: 0.5429\n",
      "Epoch 9/12\n",
      "3154/3154 [==============================] - 21s 7ms/step - loss: 0.2243 - root_mean_squared_error: 0.4736 - val_loss: 0.2913 - val_root_mean_squared_error: 0.5397\n",
      "Epoch 10/12\n",
      "3154/3154 [==============================] - 21s 7ms/step - loss: 0.2231 - root_mean_squared_error: 0.4724 - val_loss: 0.2908 - val_root_mean_squared_error: 0.5392\n",
      "Epoch 11/12\n",
      "3154/3154 [==============================] - 21s 7ms/step - loss: 0.2224 - root_mean_squared_error: 0.4716 - val_loss: 0.2839 - val_root_mean_squared_error: 0.5328\n",
      "Epoch 12/12\n",
      "3154/3154 [==============================] - 21s 7ms/step - loss: 0.2218 - root_mean_squared_error: 0.4709 - val_loss: 0.2807 - val_root_mean_squared_error: 0.5298\n",
      "676/676 [==============================] - 3s 3ms/step\n"
     ]
    }
   ],
   "source": [
    "test_size = 0.15\n",
    "valid_size = 0.15\n",
    "epochs = 12\n",
    "learning_rate=0.001\n",
    "batch_size = 32\n",
    "\n",
    "# without data shuffle\n",
    "window_size = 12\n",
    "MSE_humid_12, MAE_humid_12, MSE_wind_12, MAE_wind_12, MSE_temp_12, MAE_temp_12, pred_12, actaul_12, bias_relh, bias_skph, bias_temp = return_time(window_size,test_size,valid_size,epochs,learning_rate, True, batch_size, False, \"lstm_for_update\")"
   ]
  },
  {
   "cell_type": "code",
   "execution_count": 13,
   "metadata": {},
   "outputs": [
    {
     "data": {
      "text/plain": [
       "Text(0.5, 1.0, 'temperature')"
      ]
     },
     "execution_count": 13,
     "metadata": {},
     "output_type": "execute_result"
    },
    {
     "data": {
      "image/png": "[encoded data removed]",
      "text/plain": [
       "<Figure size 640x480 with 3 Axes>"
      ]
     },
     "metadata": {},
     "output_type": "display_data"
    }
   ],
   "source": [
    "# with and without data shuffle\n",
    "fig, axs = plt.subplots(3)\n",
    "fig.suptitle('MAE for no shuffle (green) data input, x: hour [1,2,3], y: MAE value')\n",
    "fig.tight_layout(pad=1.8)\n",
    "\n",
    "axs[0].plot(MAE_humid_12,'g')\n",
    "axs[0].set_title('relative humidity')\n",
    "\n",
    "axs[1].plot(MAE_wind_12,'g')\n",
    "axs[1].set_title('speed of wind')\n",
    "\n",
    "axs[2].plot(MAE_temp_12,'g')\n",
    "axs[2].set_title('temperature')\n"
   ]
  },
  {
   "cell_type": "markdown",
   "metadata": {},
   "source": [
    "# Mean and std save - cause above model is being chosen for predictions in pipeline"
   ]
  },
  {
   "cell_type": "code",
   "execution_count": 14,
   "metadata": {},
   "outputs": [],
   "source": [
    "test_size = 0.15\n",
    "valid_size = 0.15\n",
    "epochs = 12\n",
    "learning_rate=0.001\n",
    "\n",
    "X_train, y_train, X_val, y_val, X_test, y_test, mean, std = transform_and_split_data(all_data.copy(), window_size, test_size, valid_size, 0)"
   ]
  },
  {
   "cell_type": "code",
   "execution_count": 15,
   "metadata": {},
   "outputs": [
    {
     "name": "stdout",
     "output_type": "stream",
     "text": [
      "[76.89510779021957, 11.843569852039936, 9.335968539408992]\n",
      "[18.583363048546722, 7.771864068320906, 8.958479911528652]\n"
     ]
    }
   ],
   "source": [
    "print(mean)\n",
    "print(std)"
   ]
  },
  {
   "cell_type": "code",
   "execution_count": 16,
   "metadata": {},
   "outputs": [],
   "source": [
    "mean_and_std = pd.DataFrame()\n",
    "mean_and_std['mean'] = mean\n",
    "mean_and_std['std'] = std\n",
    "# save data to lstm_models folder\n",
    "mean_and_std.to_csv(\"lstm_models/mean_and_std\")"
   ]
  },
  {
   "cell_type": "code",
   "execution_count": 17,
   "metadata": {},
   "outputs": [
    {
     "name": "stdout",
     "output_type": "stream",
     "text": [
      "mean_and_std.pkl\n"
     ]
    }
   ],
   "source": [
    "file_name = \"mean_and_std.pkl\"\n",
    "print(file_name)\n",
    "with open(file_name, \"ab\") as f_1:\n",
    "    pickle.dump(mean_and_std, f_1, -1)"
   ]
  },
  {
   "cell_type": "markdown",
   "metadata": {},
   "source": [
    "### Bias for last model - biases addition to the .pkl files"
   ]
  },
  {
   "cell_type": "code",
   "execution_count": 18,
   "metadata": {},
   "outputs": [
    {
     "name": "stdout",
     "output_type": "stream",
     "text": [
      "[0.6004030780853752, 1.286341516536362, 1.6180511979492151]\n",
      "[0.12948247014089254, -0.13758981946978463, -0.0027551269153350127]\n",
      "[0.0812351827431696, 0.3250180881184942, -0.17489375296118392]\n"
     ]
    }
   ],
   "source": [
    "print(bias_relh)\n",
    "print(bias_skph)\n",
    "print(bias_temp)"
   ]
  },
  {
   "cell_type": "code",
   "execution_count": 19,
   "metadata": {},
   "outputs": [],
   "source": [
    "# relh\t skph \ttemp\n",
    "biases = pd.DataFrame()\n",
    "biases['humid'] = bias_relh\n",
    "biases['wind'] = bias_skph\n",
    "biases['temp'] = bias_temp\n",
    "# save data to lstm_models folder\n",
    "biases.to_csv(\"lstm_models/biases_lstm\")"
   ]
  },
  {
   "cell_type": "code",
   "execution_count": 20,
   "metadata": {},
   "outputs": [
    {
     "name": "stdout",
     "output_type": "stream",
     "text": [
      "lstm_models/lstm1.pkl\n",
      "lstm_models/lstm2.pkl\n",
      "lstm_models/lstm3.pkl\n"
     ]
    }
   ],
   "source": [
    "for i in range(3):\n",
    "        file_name = 'lstm_models/' + \"lstm\" + (str)(i+1) + \".pkl\"\n",
    "        print(file_name)\n",
    "        with open(file_name, \"ab\") as f_1:\n",
    "                pickle.dump(biases[biases.index==i], f_1, -1)"
   ]
  }
 ],
 "metadata": {
  "kernelspec": {
   "display_name": "Python 3",
   "language": "python",
   "name": "python3"
  },
  "language_info": {
   "codemirror_mode": {
    "name": "ipython",
    "version": 3
   },
   "file_extension": ".py",
   "mimetype": "text/x-python",
   "name": "python",
   "nbconvert_exporter": "python",
   "pygments_lexer": "ipython3",
   "version": "3.10.5"
  }
 },
 "nbformat": 4,
 "nbformat_minor": 2
}
