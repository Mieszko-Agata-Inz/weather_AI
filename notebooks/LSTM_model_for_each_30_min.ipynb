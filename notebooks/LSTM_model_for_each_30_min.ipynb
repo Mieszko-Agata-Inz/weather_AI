{
 "cells": [
  {
   "cell_type": "markdown",
   "metadata": {},
   "source": [
    "# LSTM model - half of hour step"
   ]
  },
  {
   "cell_type": "markdown",
   "metadata": {},
   "source": [
    "Libraries import"
   ]
  },
  {
   "cell_type": "code",
   "execution_count": 1,
   "metadata": {},
   "outputs": [],
   "source": [
    "import pandas as pd\n",
    "import matplotlib.pyplot as plt\n",
    "import numpy as np\n",
    "import pickle\n",
    "\n",
    "from sklearn.metrics import mean_squared_error, mean_absolute_error"
   ]
  },
  {
   "cell_type": "code",
   "execution_count": 2,
   "metadata": {},
   "outputs": [],
   "source": [
    "from different_functions import transform_and_split_data, LSTM_model, transform_and_split_data, make_predictions"
   ]
  },
  {
   "cell_type": "markdown",
   "metadata": {},
   "source": [
    "CSV file reading"
   ]
  },
  {
   "cell_type": "code",
   "execution_count": 3,
   "metadata": {},
   "outputs": [],
   "source": [
    "# Read the CSV file\n",
    "all_data = pd.read_csv(\"data_for_main_model/data_ready_for_training.csv\")\n",
    "all_data.drop('Unnamed: 0',axis='columns', inplace=True)\n",
    "all_data = all_data[[\"relh\", \"skph\", \"temp\", \"minutes\"]]"
   ]
  },
  {
   "cell_type": "code",
   "execution_count": 4,
   "metadata": {},
   "outputs": [
    {
     "data": {
      "text/html": [
       "<div>\n",
       "<style scoped>\n",
       "    .dataframe tbody tr th:only-of-type {\n",
       "        vertical-align: middle;\n",
       "    }\n",
       "\n",
       "    .dataframe tbody tr th {\n",
       "        vertical-align: top;\n",
       "    }\n",
       "\n",
       "    .dataframe thead th {\n",
       "        text-align: right;\n",
       "    }\n",
       "</style>\n",
       "<table border=\"1\" class=\"dataframe\">\n",
       "  <thead>\n",
       "    <tr style=\"text-align: right;\">\n",
       "      <th></th>\n",
       "      <th>relh</th>\n",
       "      <th>skph</th>\n",
       "      <th>temp</th>\n",
       "      <th>minutes</th>\n",
       "    </tr>\n",
       "  </thead>\n",
       "  <tbody>\n",
       "    <tr>\n",
       "      <th>0</th>\n",
       "      <td>100.0</td>\n",
       "      <td>0.000</td>\n",
       "      <td>-2.0</td>\n",
       "      <td>0</td>\n",
       "    </tr>\n",
       "    <tr>\n",
       "      <th>1</th>\n",
       "      <td>100.0</td>\n",
       "      <td>0.000</td>\n",
       "      <td>-2.0</td>\n",
       "      <td>30</td>\n",
       "    </tr>\n",
       "    <tr>\n",
       "      <th>2</th>\n",
       "      <td>100.0</td>\n",
       "      <td>3.704</td>\n",
       "      <td>-2.0</td>\n",
       "      <td>0</td>\n",
       "    </tr>\n",
       "    <tr>\n",
       "      <th>3</th>\n",
       "      <td>100.0</td>\n",
       "      <td>0.000</td>\n",
       "      <td>-2.0</td>\n",
       "      <td>30</td>\n",
       "    </tr>\n",
       "    <tr>\n",
       "      <th>4</th>\n",
       "      <td>100.0</td>\n",
       "      <td>5.556</td>\n",
       "      <td>-3.0</td>\n",
       "      <td>0</td>\n",
       "    </tr>\n",
       "  </tbody>\n",
       "</table>\n",
       "</div>"
      ],
      "text/plain": [
       "    relh   skph  temp  minutes\n",
       "0  100.0  0.000  -2.0        0\n",
       "1  100.0  0.000  -2.0       30\n",
       "2  100.0  3.704  -2.0        0\n",
       "3  100.0  0.000  -2.0       30\n",
       "4  100.0  5.556  -3.0        0"
      ]
     },
     "execution_count": 4,
     "metadata": {},
     "output_type": "execute_result"
    }
   ],
   "source": [
    "all_data.head()"
   ]
  },
  {
   "cell_type": "code",
   "execution_count": 5,
   "metadata": {},
   "outputs": [],
   "source": [
    "# every 30 min\n",
    "all_data.drop('minutes',axis='columns', inplace=True)"
   ]
  },
  {
   "cell_type": "markdown",
   "metadata": {},
   "source": [
    "MSE calculations for given window size and etc. for the next 1 to 3 hours then next 2, 4, 6 steps"
   ]
  },
  {
   "cell_type": "code",
   "execution_count": 6,
   "metadata": {},
   "outputs": [],
   "source": [
    "def return_time(window_size,test_size,valid_size,epochs,learning_rate, save_model = False, batch_size = 32, shuffle = True, name_of_file = \"lstm\"):\n",
    "    \n",
    "    MSE_humid = []\n",
    "    MAE_humid = []\n",
    "\n",
    "    MSE_wind = []\n",
    "    MAE_wind = []\n",
    "    \n",
    "    MSE_temp = []\n",
    "    MAE_temp = []\n",
    "\n",
    "    bias_relh = []\n",
    "    bias_skph = []\n",
    "    bias_temp = []\n",
    "\n",
    "    # MSE calculations for given window size and etc. in next 1 to 3 next hours\n",
    "    # last_pred_hour == 3 means that predictions are from +1 hour till +3 hours\n",
    "    last_pred_hour = 6\n",
    "    for hour in range(1,last_pred_hour,2): # cause every data timestamp is in 30 min distance\n",
    "        # (hour == 1) it means that predictions will be made for next one hour\n",
    "        X_train, y_train, X_val, y_val, X_test, y_test,training_mean, training_std = transform_and_split_data(all_data.copy(), window_size, test_size, valid_size, hour) \n",
    "        X_test.size\n",
    "        model = LSTM_model(X_train, y_train, X_val, y_val, epochs, learning_rate, window_size, batch_size, shuffle)\n",
    "\n",
    "        ## save as binary file .pkl\n",
    "        if(save_model):\n",
    "            file_name = name_of_file + str(int((hour+1)/2)) + \".pkl\"\n",
    "            with open(file_name, \"xb\") as f_1:\n",
    "                pickle.dump(model, f_1, -1)\n",
    "\n",
    "        pred, actaul = make_predictions(model, X_test, y_test,  training_mean, training_std)\n",
    "        MSE_humid.append(mean_squared_error(actaul[0], pred[0]))\n",
    "        MAE_humid.append(mean_absolute_error(actaul[0], pred[0]))\n",
    "        MSE_wind.append(mean_squared_error(actaul[1], pred[1]))\n",
    "        MAE_wind.append(mean_absolute_error(actaul[1], pred[1]))\n",
    "        MSE_temp.append(mean_squared_error(actaul[2], pred[2]))\n",
    "        MAE_temp.append(mean_absolute_error(actaul[2], pred[2]))\n",
    "\n",
    "\n",
    "        bias_relh.append(sum(pred[0] - actaul[0])/len(pred[0]))\n",
    "        bias_skph.append(sum(pred[1] - actaul[1])/len(pred[0]))\n",
    "        bias_temp.append(sum(pred[2] - actaul[2])/len(pred[0]))\n",
    "\n",
    "\n",
    "    return MSE_humid, MAE_humid, MSE_wind, MAE_wind, MSE_temp, MAE_temp, pred, actaul, bias_relh, bias_skph, bias_temp"
   ]
  },
  {
   "cell_type": "markdown",
   "metadata": {},
   "source": [
    "# Test for 6 and then 12 timestamps (3 and 6 hours)"
   ]
  },
  {
   "cell_type": "code",
   "execution_count": 7,
   "metadata": {},
   "outputs": [],
   "source": [
    "# test_size = 0.15\n",
    "# valid_size = 0.15\n",
    "# epochs = 12\n",
    "# learning_rate=0.001\n",
    "\n",
    "# window_size = 6\n",
    "# MSE_humid_6, MAE_humid_6, MSE_wind_6, MAE_wind_6, MSE_temp_6, MAE_temp_6, pred_6, actaul_6  = return_time(window_size,test_size,valid_size,epochs,learning_rate)\n",
    "# window_size = 12\n",
    "# MSE_humid_12, MAE_humid_12, MSE_wind_12, MAE_wind_12, MSE_temp_12, MAE_temp_12, pred_12, actaul_12  = return_time(window_size,test_size,valid_size,epochs,learning_rate)"
   ]
  },
  {
   "cell_type": "code",
   "execution_count": 8,
   "metadata": {},
   "outputs": [],
   "source": [
    "# plt.plot(MAE_temp_6,'g')\n",
    "# plt.plot(MAE_temp_12,'r')\n",
    "# plt.title(\"MSE for different hours and models with different window size - temperature\")\n",
    "# plt.xlabel(\"hour\")\n",
    "# plt.ylabel(\"MSE\")"
   ]
  },
  {
   "cell_type": "code",
   "execution_count": 9,
   "metadata": {},
   "outputs": [],
   "source": [
    "# plt.plot(MAE_wind_6,'g')\n",
    "# plt.plot(MAE_wind_12,'r')\n",
    "# plt.title(\"MSE for different hours and models with different window size - wind\")\n",
    "# plt.xlabel(\"hour\")\n",
    "# plt.ylabel(\"MSE\")"
   ]
  },
  {
   "cell_type": "code",
   "execution_count": 10,
   "metadata": {},
   "outputs": [],
   "source": [
    "# plt.plot(MAE_humid_6,'g')\n",
    "# plt.plot(MAE_humid_12,'r')\n",
    "# plt.title(\"MSE for different hours and models with different window size - humid\")\n",
    "# plt.xlabel(\"hour\")\n",
    "# plt.ylabel(\"MSE\")"
   ]
  },
  {
   "cell_type": "markdown",
   "metadata": {},
   "source": [
    "###  Training data save"
   ]
  },
  {
   "cell_type": "code",
   "execution_count": 11,
   "metadata": {},
   "outputs": [],
   "source": [
    "# # relh\t skph \ttemp\n",
    "# data = pd.DataFrame()\n",
    "# data['MAE_humid_6'] = MAE_humid_6\n",
    "# data['MAE_wind_6'] = MAE_wind_6\n",
    "# data['MAE_temp_6'] = MAE_temp_6\n",
    "# data['MAE_humid_12'] = MAE_humid_12\n",
    "# data['MAE_wind_12'] = MAE_wind_12\n",
    "# data['MAE_temp_12'] = MAE_temp_12\n",
    "\n",
    "# data.to_csv(\"data_each_30_min\")"
   ]
  },
  {
   "cell_type": "markdown",
   "metadata": {},
   "source": [
    "# Models: 12 previous steps for 3 next hours predictions"
   ]
  },
  {
   "cell_type": "code",
   "execution_count": 12,
   "metadata": {},
   "outputs": [
    {
     "name": "stdout",
     "output_type": "stream",
     "text": [
      "Epoch 1/12\n",
      "3154/3154 [==============================] - 22s 6ms/step - loss: 0.1243 - root_mean_squared_error: 0.3525 - val_loss: 0.0953 - val_root_mean_squared_error: 0.3087\n",
      "Epoch 2/12\n",
      "3154/3154 [==============================] - 19s 6ms/step - loss: 0.1088 - root_mean_squared_error: 0.3298 - val_loss: 0.0940 - val_root_mean_squared_error: 0.3066\n",
      "Epoch 3/12\n",
      "3154/3154 [==============================] - 21s 7ms/step - loss: 0.1067 - root_mean_squared_error: 0.3267 - val_loss: 0.0945 - val_root_mean_squared_error: 0.3074\n",
      "Epoch 4/12\n",
      "3154/3154 [==============================] - 21s 7ms/step - loss: 0.1060 - root_mean_squared_error: 0.3255 - val_loss: 0.0952 - val_root_mean_squared_error: 0.3086\n",
      "Epoch 5/12\n",
      "3154/3154 [==============================] - 20s 6ms/step - loss: 0.1053 - root_mean_squared_error: 0.3244 - val_loss: 0.0925 - val_root_mean_squared_error: 0.3041\n",
      "Epoch 6/12\n",
      "3154/3154 [==============================] - 24s 8ms/step - loss: 0.1049 - root_mean_squared_error: 0.3238 - val_loss: 0.0920 - val_root_mean_squared_error: 0.3033\n",
      "Epoch 7/12\n",
      "3154/3154 [==============================] - 24s 8ms/step - loss: 0.1044 - root_mean_squared_error: 0.3230 - val_loss: 0.0926 - val_root_mean_squared_error: 0.3042\n",
      "Epoch 8/12\n",
      "3154/3154 [==============================] - 21s 7ms/step - loss: 0.1039 - root_mean_squared_error: 0.3223 - val_loss: 0.0939 - val_root_mean_squared_error: 0.3064\n",
      "Epoch 9/12\n",
      "3154/3154 [==============================] - 21s 7ms/step - loss: 0.1037 - root_mean_squared_error: 0.3220 - val_loss: 0.0920 - val_root_mean_squared_error: 0.3033\n",
      "Epoch 10/12\n",
      "3154/3154 [==============================] - 20s 6ms/step - loss: 0.1032 - root_mean_squared_error: 0.3212 - val_loss: 0.0910 - val_root_mean_squared_error: 0.3017\n",
      "Epoch 11/12\n",
      "3154/3154 [==============================] - 20s 6ms/step - loss: 0.1026 - root_mean_squared_error: 0.3203 - val_loss: 0.0915 - val_root_mean_squared_error: 0.3025\n",
      "Epoch 12/12\n",
      "3154/3154 [==============================] - 20s 6ms/step - loss: 0.1027 - root_mean_squared_error: 0.3204 - val_loss: 0.0910 - val_root_mean_squared_error: 0.3017\n",
      "676/676 [==============================] - 2s 3ms/step\n",
      "Epoch 1/12\n",
      "3154/3154 [==============================] - 23s 7ms/step - loss: 0.1892 - root_mean_squared_error: 0.4349 - val_loss: 0.1633 - val_root_mean_squared_error: 0.4041\n",
      "Epoch 2/12\n",
      "3154/3154 [==============================] - 21s 7ms/step - loss: 0.1698 - root_mean_squared_error: 0.4121 - val_loss: 0.1574 - val_root_mean_squared_error: 0.3967\n",
      "Epoch 3/12\n",
      "3154/3154 [==============================] - 20s 6ms/step - loss: 0.1663 - root_mean_squared_error: 0.4077 - val_loss: 0.1549 - val_root_mean_squared_error: 0.3936\n",
      "Epoch 4/12\n",
      "3154/3154 [==============================] - 20s 6ms/step - loss: 0.1645 - root_mean_squared_error: 0.4055 - val_loss: 0.1538 - val_root_mean_squared_error: 0.3922\n",
      "Epoch 5/12\n",
      "3154/3154 [==============================] - 20s 6ms/step - loss: 0.1627 - root_mean_squared_error: 0.4033 - val_loss: 0.1565 - val_root_mean_squared_error: 0.3956\n",
      "Epoch 6/12\n",
      "3154/3154 [==============================] - 20s 6ms/step - loss: 0.1614 - root_mean_squared_error: 0.4017 - val_loss: 0.1522 - val_root_mean_squared_error: 0.3901\n",
      "Epoch 7/12\n",
      "3154/3154 [==============================] - 21s 7ms/step - loss: 0.1604 - root_mean_squared_error: 0.4005 - val_loss: 0.1534 - val_root_mean_squared_error: 0.3917\n",
      "Epoch 8/12\n",
      "3154/3154 [==============================] - 21s 7ms/step - loss: 0.1596 - root_mean_squared_error: 0.3995 - val_loss: 0.1551 - val_root_mean_squared_error: 0.3938\n",
      "Epoch 9/12\n",
      "3154/3154 [==============================] - 21s 7ms/step - loss: 0.1588 - root_mean_squared_error: 0.3985 - val_loss: 0.1539 - val_root_mean_squared_error: 0.3923\n",
      "Epoch 10/12\n",
      "3154/3154 [==============================] - 21s 7ms/step - loss: 0.1581 - root_mean_squared_error: 0.3977 - val_loss: 0.1562 - val_root_mean_squared_error: 0.3953\n",
      "Epoch 11/12\n",
      "3154/3154 [==============================] - 22s 7ms/step - loss: 0.1578 - root_mean_squared_error: 0.3972 - val_loss: 0.1553 - val_root_mean_squared_error: 0.3941\n",
      "Epoch 12/12\n",
      "3154/3154 [==============================] - 21s 7ms/step - loss: 0.1570 - root_mean_squared_error: 0.3963 - val_loss: 0.1577 - val_root_mean_squared_error: 0.3971\n",
      "676/676 [==============================] - 2s 3ms/step\n",
      "Epoch 1/12\n",
      "3154/3154 [==============================] - 24s 7ms/step - loss: 0.2608 - root_mean_squared_error: 0.5107 - val_loss: 0.2310 - val_root_mean_squared_error: 0.4806\n",
      "Epoch 2/12\n",
      "3154/3154 [==============================] - 22s 7ms/step - loss: 0.2352 - root_mean_squared_error: 0.4850 - val_loss: 0.2228 - val_root_mean_squared_error: 0.4720\n",
      "Epoch 3/12\n",
      "3154/3154 [==============================] - 21s 7ms/step - loss: 0.2303 - root_mean_squared_error: 0.4799 - val_loss: 0.2188 - val_root_mean_squared_error: 0.4677\n",
      "Epoch 4/12\n",
      "3154/3154 [==============================] - 21s 7ms/step - loss: 0.2278 - root_mean_squared_error: 0.4772 - val_loss: 0.2203 - val_root_mean_squared_error: 0.4694\n",
      "Epoch 5/12\n",
      "3154/3154 [==============================] - 20s 6ms/step - loss: 0.2252 - root_mean_squared_error: 0.4746 - val_loss: 0.2252 - val_root_mean_squared_error: 0.4746\n",
      "Epoch 6/12\n",
      "3154/3154 [==============================] - 20s 6ms/step - loss: 0.2239 - root_mean_squared_error: 0.4732 - val_loss: 0.2190 - val_root_mean_squared_error: 0.4680\n",
      "Epoch 7/12\n",
      "3154/3154 [==============================] - 21s 7ms/step - loss: 0.2226 - root_mean_squared_error: 0.4718 - val_loss: 0.2169 - val_root_mean_squared_error: 0.4657\n",
      "Epoch 8/12\n",
      "3154/3154 [==============================] - 21s 7ms/step - loss: 0.2214 - root_mean_squared_error: 0.4706 - val_loss: 0.2213 - val_root_mean_squared_error: 0.4705\n",
      "Epoch 9/12\n",
      "3154/3154 [==============================] - 21s 7ms/step - loss: 0.2201 - root_mean_squared_error: 0.4692 - val_loss: 0.2165 - val_root_mean_squared_error: 0.4653\n",
      "Epoch 10/12\n",
      "3154/3154 [==============================] - 22s 7ms/step - loss: 0.2194 - root_mean_squared_error: 0.4684 - val_loss: 0.2180 - val_root_mean_squared_error: 0.4669\n",
      "Epoch 11/12\n",
      "3154/3154 [==============================] - 22s 7ms/step - loss: 0.2186 - root_mean_squared_error: 0.4676 - val_loss: 0.2195 - val_root_mean_squared_error: 0.4685\n",
      "Epoch 12/12\n",
      "3154/3154 [==============================] - 21s 7ms/step - loss: 0.2181 - root_mean_squared_error: 0.4670 - val_loss: 0.2171 - val_root_mean_squared_error: 0.4660\n",
      "676/676 [==============================] - 3s 3ms/step\n",
      "Epoch 1/12\n",
      "3154/3154 [==============================] - 24s 7ms/step - loss: 0.1402 - root_mean_squared_error: 0.3745 - val_loss: 0.1199 - val_root_mean_squared_error: 0.3462\n",
      "Epoch 2/12\n",
      "3154/3154 [==============================] - 22s 7ms/step - loss: 0.1116 - root_mean_squared_error: 0.3340 - val_loss: 0.1182 - val_root_mean_squared_error: 0.3439\n",
      "Epoch 3/12\n",
      "3154/3154 [==============================] - 21s 7ms/step - loss: 0.1101 - root_mean_squared_error: 0.3317 - val_loss: 0.1136 - val_root_mean_squared_error: 0.3371\n",
      "Epoch 4/12\n",
      "3154/3154 [==============================] - 21s 7ms/step - loss: 0.1089 - root_mean_squared_error: 0.3300 - val_loss: 0.1115 - val_root_mean_squared_error: 0.3340\n",
      "Epoch 5/12\n",
      "3154/3154 [==============================] - 22s 7ms/step - loss: 0.1080 - root_mean_squared_error: 0.3286 - val_loss: 0.1102 - val_root_mean_squared_error: 0.3320\n",
      "Epoch 6/12\n",
      "3154/3154 [==============================] - 21s 7ms/step - loss: 0.1070 - root_mean_squared_error: 0.3271 - val_loss: 0.1088 - val_root_mean_squared_error: 0.3299\n",
      "Epoch 7/12\n",
      "3154/3154 [==============================] - 21s 7ms/step - loss: 0.1066 - root_mean_squared_error: 0.3265 - val_loss: 0.1083 - val_root_mean_squared_error: 0.3290\n",
      "Epoch 8/12\n",
      "3154/3154 [==============================] - 21s 7ms/step - loss: 0.1061 - root_mean_squared_error: 0.3257 - val_loss: 0.1084 - val_root_mean_squared_error: 0.3293\n",
      "Epoch 9/12\n",
      "3154/3154 [==============================] - 21s 7ms/step - loss: 0.1057 - root_mean_squared_error: 0.3251 - val_loss: 0.1070 - val_root_mean_squared_error: 0.3270\n",
      "Epoch 10/12\n",
      "3154/3154 [==============================] - 21s 7ms/step - loss: 0.1052 - root_mean_squared_error: 0.3243 - val_loss: 0.1081 - val_root_mean_squared_error: 0.3288\n",
      "Epoch 11/12\n",
      "3154/3154 [==============================] - 21s 7ms/step - loss: 0.1046 - root_mean_squared_error: 0.3234 - val_loss: 0.1085 - val_root_mean_squared_error: 0.3294\n",
      "Epoch 12/12\n",
      "3154/3154 [==============================] - 21s 7ms/step - loss: 0.1043 - root_mean_squared_error: 0.3230 - val_loss: 0.1077 - val_root_mean_squared_error: 0.3282\n",
      "676/676 [==============================] - 3s 3ms/step\n",
      "Epoch 1/12\n",
      "3154/3154 [==============================] - 22s 6ms/step - loss: 0.2129 - root_mean_squared_error: 0.4614 - val_loss: 0.2437 - val_root_mean_squared_error: 0.4937\n",
      "Epoch 2/12\n",
      "3154/3154 [==============================] - 20s 6ms/step - loss: 0.1771 - root_mean_squared_error: 0.4208 - val_loss: 0.2323 - val_root_mean_squared_error: 0.4819\n",
      "Epoch 3/12\n",
      "3154/3154 [==============================] - 20s 6ms/step - loss: 0.1726 - root_mean_squared_error: 0.4155 - val_loss: 0.2257 - val_root_mean_squared_error: 0.4751\n",
      "Epoch 4/12\n",
      "3154/3154 [==============================] - 20s 6ms/step - loss: 0.1703 - root_mean_squared_error: 0.4126 - val_loss: 0.2139 - val_root_mean_squared_error: 0.4624\n",
      "Epoch 5/12\n",
      "3154/3154 [==============================] - 20s 6ms/step - loss: 0.1679 - root_mean_squared_error: 0.4098 - val_loss: 0.2056 - val_root_mean_squared_error: 0.4534\n",
      "Epoch 6/12\n",
      "3154/3154 [==============================] - 21s 7ms/step - loss: 0.1662 - root_mean_squared_error: 0.4077 - val_loss: 0.2029 - val_root_mean_squared_error: 0.4505\n",
      "Epoch 7/12\n",
      "3154/3154 [==============================] - 21s 7ms/step - loss: 0.1652 - root_mean_squared_error: 0.4065 - val_loss: 0.2003 - val_root_mean_squared_error: 0.4476\n",
      "Epoch 8/12\n",
      "3154/3154 [==============================] - 20s 6ms/step - loss: 0.1642 - root_mean_squared_error: 0.4052 - val_loss: 0.2005 - val_root_mean_squared_error: 0.4477\n",
      "Epoch 9/12\n",
      "3154/3154 [==============================] - 22s 7ms/step - loss: 0.1635 - root_mean_squared_error: 0.4043 - val_loss: 0.1965 - val_root_mean_squared_error: 0.4432\n",
      "Epoch 10/12\n",
      "3154/3154 [==============================] - 21s 7ms/step - loss: 0.1627 - root_mean_squared_error: 0.4034 - val_loss: 0.1957 - val_root_mean_squared_error: 0.4424\n",
      "Epoch 11/12\n",
      "3154/3154 [==============================] - 20s 6ms/step - loss: 0.1618 - root_mean_squared_error: 0.4023 - val_loss: 0.1959 - val_root_mean_squared_error: 0.4426\n",
      "Epoch 12/12\n",
      "3154/3154 [==============================] - 20s 6ms/step - loss: 0.1616 - root_mean_squared_error: 0.4021 - val_loss: 0.1943 - val_root_mean_squared_error: 0.4408\n",
      "676/676 [==============================] - 2s 3ms/step\n",
      "Epoch 1/12\n",
      "3154/3154 [==============================] - 23s 7ms/step - loss: 0.2791 - root_mean_squared_error: 0.5283 - val_loss: 0.3801 - val_root_mean_squared_error: 0.6165\n",
      "Epoch 2/12\n",
      "3154/3154 [==============================] - 21s 7ms/step - loss: 0.2448 - root_mean_squared_error: 0.4947 - val_loss: 0.3557 - val_root_mean_squared_error: 0.5964\n",
      "Epoch 3/12\n",
      "3154/3154 [==============================] - 21s 7ms/step - loss: 0.2384 - root_mean_squared_error: 0.4883 - val_loss: 0.3279 - val_root_mean_squared_error: 0.5727\n",
      "Epoch 4/12\n",
      "3154/3154 [==============================] - 21s 7ms/step - loss: 0.2349 - root_mean_squared_error: 0.4846 - val_loss: 0.3228 - val_root_mean_squared_error: 0.5682\n",
      "Epoch 5/12\n",
      "3154/3154 [==============================] - 21s 7ms/step - loss: 0.2314 - root_mean_squared_error: 0.4811 - val_loss: 0.3120 - val_root_mean_squared_error: 0.5586\n",
      "Epoch 6/12\n",
      "3154/3154 [==============================] - 21s 7ms/step - loss: 0.2295 - root_mean_squared_error: 0.4790 - val_loss: 0.3046 - val_root_mean_squared_error: 0.5519\n",
      "Epoch 7/12\n",
      "3154/3154 [==============================] - 21s 7ms/step - loss: 0.2278 - root_mean_squared_error: 0.4773 - val_loss: 0.3071 - val_root_mean_squared_error: 0.5542\n",
      "Epoch 8/12\n",
      "3154/3154 [==============================] - 22s 7ms/step - loss: 0.2266 - root_mean_squared_error: 0.4761 - val_loss: 0.2993 - val_root_mean_squared_error: 0.5471\n",
      "Epoch 9/12\n",
      "3154/3154 [==============================] - 21s 7ms/step - loss: 0.2252 - root_mean_squared_error: 0.4745 - val_loss: 0.2982 - val_root_mean_squared_error: 0.5461\n",
      "Epoch 10/12\n",
      "3154/3154 [==============================] - 21s 7ms/step - loss: 0.2239 - root_mean_squared_error: 0.4732 - val_loss: 0.2980 - val_root_mean_squared_error: 0.5459\n",
      "Epoch 11/12\n",
      "3154/3154 [==============================] - 22s 7ms/step - loss: 0.2231 - root_mean_squared_error: 0.4723 - val_loss: 0.2879 - val_root_mean_squared_error: 0.5366\n",
      "Epoch 12/12\n",
      "3154/3154 [==============================] - 21s 7ms/step - loss: 0.2221 - root_mean_squared_error: 0.4712 - val_loss: 0.2853 - val_root_mean_squared_error: 0.5341\n",
      "676/676 [==============================] - 2s 3ms/step\n"
     ]
    }
   ],
   "source": [
    "test_size = 0.15\n",
    "valid_size = 0.15\n",
    "epochs = 12\n",
    "learning_rate=0.001\n",
    "batch_size = 32\n",
    "\n",
    "# with data shuffle\n",
    "window_size = 12\n",
    "MSE_humid_12, MAE_humid_12, MSE_wind_12, MAE_wind_12, MSE_temp_12, MAE_temp_12, pred_12, actaul_12, bias_relh, bias_skph, bias_temp  = return_time(window_size,test_size,valid_size,epochs,learning_rate, True, batch_size, True)\n",
    "\n",
    "# without data shuffle\n",
    "window_size = 12\n",
    "MSE_humid_12_dns, MAE_humid_12_dns, MSE_wind_12_dns, MAE_wind_12_dns, MSE_temp_12_dns, MAE_temp_12_dns, pred_12_dns, actaul_12_dns, bias_relh_dns, bias_skph_dns, bias_temp_dns  = return_time(window_size,test_size,valid_size,epochs,learning_rate, True, batch_size, False, \"lstm_for_update\")"
   ]
  },
  {
   "cell_type": "code",
   "execution_count": 13,
   "metadata": {},
   "outputs": [
    {
     "data": {
      "text/plain": [
       "Text(0.5, 1.0, 'temperature')"
      ]
     },
     "execution_count": 13,
     "metadata": {},
     "output_type": "execute_result"
    },
    {
     "data": {
      "image/png": "[encoded data removed]",
      "text/plain": [
       "<Figure size 640x480 with 3 Axes>"
      ]
     },
     "metadata": {},
     "output_type": "display_data"
    }
   ],
   "source": [
    "# with and without data shuffle\n",
    "import matplotlib.ticker as mticker\n",
    "\n",
    "fig, axs = plt.subplots(3)\n",
    "fig.suptitle('MAE for shuffle (red) and no shuffle (green) data input, x: hour [1,2,3], y: MAE value')\n",
    "fig.tight_layout(pad=1.8)\n",
    "fig.gca().xaxis.set_major_locator(mticker.MultipleLocator(1))\n",
    "\n",
    "axs[0].plot(MAE_humid_12,'r')\n",
    "axs[0].plot(MAE_humid_12_dns,'g')\n",
    "axs[0].set_title('relative humidity')\n",
    "\n",
    "axs[1].plot(MAE_wind_12,'r')\n",
    "axs[1].plot(MAE_wind_12_dns,'g')\n",
    "axs[1].set_title('speed of wind')\n",
    "\n",
    "axs[2].plot(MAE_temp_12,'r')\n",
    "axs[2].plot(MAE_temp_12_dns,'g')\n",
    "axs[2].set_title('temperature')\n"
   ]
  },
  {
   "cell_type": "markdown",
   "metadata": {},
   "source": [
    "# Mean and std save - cause above model (shuffle) is being chosen for predictions in pipeline"
   ]
  },
  {
   "cell_type": "code",
   "execution_count": 14,
   "metadata": {},
   "outputs": [],
   "source": [
    "test_size = 0.15\n",
    "valid_size = 0.15\n",
    "epochs = 12\n",
    "learning_rate=0.001\n",
    "\n",
    "X_train, y_train, X_val, y_val, X_test, y_test, mean, std = transform_and_split_data(all_data.copy(), window_size, test_size, valid_size, 0)"
   ]
  },
  {
   "cell_type": "code",
   "execution_count": 15,
   "metadata": {},
   "outputs": [
    {
     "name": "stdout",
     "output_type": "stream",
     "text": [
      "[76.89510779021957, 11.843569852039936, 9.335968539408992]\n",
      "[18.583363048546722, 7.771864068320906, 8.958479911528652]\n"
     ]
    }
   ],
   "source": [
    "print(mean)\n",
    "print(std)"
   ]
  },
  {
   "cell_type": "code",
   "execution_count": 16,
   "metadata": {},
   "outputs": [],
   "source": [
    "mean_and_std = pd.DataFrame()\n",
    "mean_and_std['mean'] = mean\n",
    "mean_and_std['std'] = std\n",
    "\n",
    "mean_and_std.to_csv(\"mean_and_std\")"
   ]
  },
  {
   "cell_type": "code",
   "execution_count": 17,
   "metadata": {},
   "outputs": [
    {
     "name": "stdout",
     "output_type": "stream",
     "text": [
      "mean_and_std.pkl\n"
     ]
    }
   ],
   "source": [
    "file_name = \"mean_and_std.pkl\"\n",
    "print(file_name)\n",
    "with open(file_name, \"ab\") as f_1:\n",
    "    pickle.dump(mean_and_std, f_1, -1)"
   ]
  },
  {
   "cell_type": "markdown",
   "metadata": {},
   "source": [
    "### Bias for last model - biases addition to the .pkl files"
   ]
  },
  {
   "cell_type": "code",
   "execution_count": 18,
   "metadata": {},
   "outputs": [
    {
     "name": "stdout",
     "output_type": "stream",
     "text": [
      "[0.07004083616300255, 0.15893632996131182, 0.9803868767306179]\n",
      "[0.051415385709743126, 0.275888278570316, -0.23303471140378598]\n",
      "[0.21753802277433934, -0.564036718455565, -0.16228377321390358]\n"
     ]
    }
   ],
   "source": [
    "print(bias_relh)\n",
    "print(bias_skph)\n",
    "print(bias_temp)"
   ]
  },
  {
   "cell_type": "code",
   "execution_count": 19,
   "metadata": {},
   "outputs": [],
   "source": [
    "# relh\t skph \ttemp\n",
    "biases = pd.DataFrame()\n",
    "biases['humid'] = bias_relh\n",
    "biases['wind'] = bias_skph\n",
    "biases['temp'] = bias_temp"
   ]
  },
  {
   "cell_type": "code",
   "execution_count": 20,
   "metadata": {},
   "outputs": [
    {
     "name": "stdout",
     "output_type": "stream",
     "text": [
      "lstm1.pkl\n",
      "lstm2.pkl\n",
      "lstm3.pkl\n"
     ]
    }
   ],
   "source": [
    "for i in range(3):\n",
    "        file_name = \"lstm\" + (str)(i+1) + \".pkl\"\n",
    "        print(file_name)\n",
    "        with open(file_name, \"ab\") as f_1:\n",
    "                pickle.dump(biases[biases.index==i], f_1, -1)"
   ]
  }
 ],
 "metadata": {
  "kernelspec": {
   "display_name": "Python 3",
   "language": "python",
   "name": "python3"
  },
  "language_info": {
   "codemirror_mode": {
    "name": "ipython",
    "version": 3
   },
   "file_extension": ".py",
   "mimetype": "text/x-python",
   "name": "python",
   "nbconvert_exporter": "python",
   "pygments_lexer": "ipython3",
   "version": "3.10.5"
  }
 },
 "nbformat": 4,
 "nbformat_minor": 2
}
