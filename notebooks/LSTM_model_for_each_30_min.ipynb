{
 "cells": [
  {
   "cell_type": "markdown",
   "metadata": {},
   "source": [
    "# LSTM model - half of hour step"
   ]
  },
  {
   "cell_type": "markdown",
   "metadata": {},
   "source": [
    "Libraries import"
   ]
  },
  {
   "cell_type": "code",
   "execution_count": 1,
   "metadata": {},
   "outputs": [],
   "source": [
    "import pandas as pd\n",
    "import matplotlib.pyplot as plt\n",
    "import numpy as np\n",
    "import pickle\n",
    "\n",
    "from sklearn.metrics import mean_squared_error, mean_absolute_error"
   ]
  },
  {
   "cell_type": "code",
   "execution_count": 2,
   "metadata": {},
   "outputs": [],
   "source": [
    "from different_functions import transform_and_split_data, LSTM_model, transform_and_split_data, make_predictions"
   ]
  },
  {
   "cell_type": "markdown",
   "metadata": {},
   "source": [
    "CSV file reading"
   ]
  },
  {
   "cell_type": "code",
   "execution_count": 3,
   "metadata": {},
   "outputs": [],
   "source": [
    "# Read the CSV file\n",
    "all_data = pd.read_csv(\"data_for_main_model/data_ready_for_training.csv\")\n",
    "all_data.drop('Unnamed: 0',axis='columns', inplace=True)\n",
    "all_data = all_data[[\"relh\", \"skph\", \"temp\", \"minutes\"]]"
   ]
  },
  {
   "cell_type": "code",
   "execution_count": 4,
   "metadata": {},
   "outputs": [
    {
     "data": {
      "text/html": [
       "<div>\n",
       "<style scoped>\n",
       "    .dataframe tbody tr th:only-of-type {\n",
       "        vertical-align: middle;\n",
       "    }\n",
       "\n",
       "    .dataframe tbody tr th {\n",
       "        vertical-align: top;\n",
       "    }\n",
       "\n",
       "    .dataframe thead th {\n",
       "        text-align: right;\n",
       "    }\n",
       "</style>\n",
       "<table border=\"1\" class=\"dataframe\">\n",
       "  <thead>\n",
       "    <tr style=\"text-align: right;\">\n",
       "      <th></th>\n",
       "      <th>relh</th>\n",
       "      <th>skph</th>\n",
       "      <th>temp</th>\n",
       "      <th>minutes</th>\n",
       "    </tr>\n",
       "  </thead>\n",
       "  <tbody>\n",
       "    <tr>\n",
       "      <th>0</th>\n",
       "      <td>100.0</td>\n",
       "      <td>0.000</td>\n",
       "      <td>-2.0</td>\n",
       "      <td>0</td>\n",
       "    </tr>\n",
       "    <tr>\n",
       "      <th>1</th>\n",
       "      <td>100.0</td>\n",
       "      <td>0.000</td>\n",
       "      <td>-2.0</td>\n",
       "      <td>30</td>\n",
       "    </tr>\n",
       "    <tr>\n",
       "      <th>2</th>\n",
       "      <td>100.0</td>\n",
       "      <td>3.704</td>\n",
       "      <td>-2.0</td>\n",
       "      <td>0</td>\n",
       "    </tr>\n",
       "    <tr>\n",
       "      <th>3</th>\n",
       "      <td>100.0</td>\n",
       "      <td>0.000</td>\n",
       "      <td>-2.0</td>\n",
       "      <td>30</td>\n",
       "    </tr>\n",
       "    <tr>\n",
       "      <th>4</th>\n",
       "      <td>100.0</td>\n",
       "      <td>5.556</td>\n",
       "      <td>-3.0</td>\n",
       "      <td>0</td>\n",
       "    </tr>\n",
       "  </tbody>\n",
       "</table>\n",
       "</div>"
      ],
      "text/plain": [
       "    relh   skph  temp  minutes\n",
       "0  100.0  0.000  -2.0        0\n",
       "1  100.0  0.000  -2.0       30\n",
       "2  100.0  3.704  -2.0        0\n",
       "3  100.0  0.000  -2.0       30\n",
       "4  100.0  5.556  -3.0        0"
      ]
     },
     "execution_count": 4,
     "metadata": {},
     "output_type": "execute_result"
    }
   ],
   "source": [
    "all_data.head()"
   ]
  },
  {
   "cell_type": "code",
   "execution_count": 5,
   "metadata": {},
   "outputs": [],
   "source": [
    "# every 30 min\n",
    "all_data.drop('minutes',axis='columns', inplace=True)"
   ]
  },
  {
   "cell_type": "markdown",
   "metadata": {},
   "source": [
    "MSE calculations for given window size and etc. for the next 1 to 3 hours then next 2, 4, 6 steps"
   ]
  },
  {
   "cell_type": "code",
   "execution_count": 6,
   "metadata": {},
   "outputs": [],
   "source": [
    "def return_time(window_size,test_size,valid_size,epochs,learning_rate, save_model = False, batch_size = 32, shuffle = True, name_of_file = \"lstm\"):\n",
    "    \n",
    "    MSE_humid = []\n",
    "    MAE_humid = []\n",
    "\n",
    "    MSE_wind = []\n",
    "    MAE_wind = []\n",
    "    \n",
    "    MSE_temp = []\n",
    "    MAE_temp = []\n",
    "\n",
    "    bias_relh = []\n",
    "    bias_skph = []\n",
    "    bias_temp = []\n",
    "\n",
    "    # MSE calculations for given window size and etc. in next 1 to 3 next hours\n",
    "    # last_pred_hour == 3 means that predictions are from +1 hour till +3 hours\n",
    "    last_pred_hour = 6\n",
    "    for hour in range(1,last_pred_hour,2): # cause every data timestamp is in 30 min distance\n",
    "        # (hour == 1) it means that predictions will be made for next one hour\n",
    "        X_train, y_train, X_val, y_val, X_test, y_test,training_mean, training_std = transform_and_split_data(all_data.copy(), window_size, test_size, valid_size, hour) \n",
    "        X_test.size\n",
    "        model = LSTM_model(X_train, y_train, X_val, y_val, epochs, learning_rate, window_size, batch_size, shuffle)\n",
    "\n",
    "        ## save as binary file .pkl\n",
    "        if(save_model):\n",
    "            file_name = name_of_file + str(int((hour+1)/2)) + \".pkl\"\n",
    "            with open(file_name, \"xb\") as f_1:\n",
    "                pickle.dump(model, f_1, -1)\n",
    "\n",
    "        pred, actaul = make_predictions(model, X_test, y_test,  training_mean, training_std)\n",
    "        MSE_humid.append(mean_squared_error(actaul[0], pred[0]))\n",
    "        MAE_humid.append(mean_absolute_error(actaul[0], pred[0]))\n",
    "        MSE_wind.append(mean_squared_error(actaul[1], pred[1]))\n",
    "        MAE_wind.append(mean_absolute_error(actaul[1], pred[1]))\n",
    "        MSE_temp.append(mean_squared_error(actaul[2], pred[2]))\n",
    "        MAE_temp.append(mean_absolute_error(actaul[2], pred[2]))\n",
    "\n",
    "\n",
    "        bias_relh.append(sum(pred[0] - actaul[0])/len(pred[0]))\n",
    "        bias_skph.append(sum(pred[1] - actaul[1])/len(pred[0]))\n",
    "        bias_temp.append(sum(pred[2] - actaul[2])/len(pred[0]))\n",
    "\n",
    "\n",
    "    return MSE_humid, MAE_humid, MSE_wind, MAE_wind, MSE_temp, MAE_temp, pred, actaul, bias_relh, bias_skph, bias_temp"
   ]
  },
  {
   "cell_type": "markdown",
   "metadata": {},
   "source": [
    "# Test for 6 and then 12 timestamps (3 and 6 hours)"
   ]
  },
  {
   "cell_type": "code",
   "execution_count": 7,
   "metadata": {},
   "outputs": [],
   "source": [
    "# test_size = 0.15\n",
    "# valid_size = 0.15\n",
    "# epochs = 12\n",
    "# learning_rate=0.001\n",
    "\n",
    "# window_size = 6\n",
    "# MSE_humid_6, MAE_humid_6, MSE_wind_6, MAE_wind_6, MSE_temp_6, MAE_temp_6, pred_6, actaul_6  = return_time(window_size,test_size,valid_size,epochs,learning_rate)\n",
    "# window_size = 12\n",
    "# MSE_humid_12, MAE_humid_12, MSE_wind_12, MAE_wind_12, MSE_temp_12, MAE_temp_12, pred_12, actaul_12  = return_time(window_size,test_size,valid_size,epochs,learning_rate)"
   ]
  },
  {
   "cell_type": "code",
   "execution_count": 8,
   "metadata": {},
   "outputs": [],
   "source": [
    "# plt.plot(MAE_temp_6,'g')\n",
    "# plt.plot(MAE_temp_12,'r')\n",
    "# plt.title(\"MSE for different hours and models with different window size - temperature\")\n",
    "# plt.xlabel(\"hour\")\n",
    "# plt.ylabel(\"MSE\")"
   ]
  },
  {
   "cell_type": "code",
   "execution_count": 9,
   "metadata": {},
   "outputs": [],
   "source": [
    "# plt.plot(MAE_wind_6,'g')\n",
    "# plt.plot(MAE_wind_12,'r')\n",
    "# plt.title(\"MSE for different hours and models with different window size - wind\")\n",
    "# plt.xlabel(\"hour\")\n",
    "# plt.ylabel(\"MSE\")"
   ]
  },
  {
   "cell_type": "code",
   "execution_count": 10,
   "metadata": {},
   "outputs": [],
   "source": [
    "# plt.plot(MAE_humid_6,'g')\n",
    "# plt.plot(MAE_humid_12,'r')\n",
    "# plt.title(\"MSE for different hours and models with different window size - humid\")\n",
    "# plt.xlabel(\"hour\")\n",
    "# plt.ylabel(\"MSE\")"
   ]
  },
  {
   "cell_type": "markdown",
   "metadata": {},
   "source": [
    "###  Training data save"
   ]
  },
  {
   "cell_type": "code",
   "execution_count": 11,
   "metadata": {},
   "outputs": [],
   "source": [
    "# # relh\t skph \ttemp\n",
    "# data = pd.DataFrame()\n",
    "# data['MAE_humid_6'] = MAE_humid_6\n",
    "# data['MAE_wind_6'] = MAE_wind_6\n",
    "# data['MAE_temp_6'] = MAE_temp_6\n",
    "# data['MAE_humid_12'] = MAE_humid_12\n",
    "# data['MAE_wind_12'] = MAE_wind_12\n",
    "# data['MAE_temp_12'] = MAE_temp_12\n",
    "\n",
    "# data.to_csv(\"data_each_30_min\")"
   ]
  },
  {
   "cell_type": "markdown",
   "metadata": {},
   "source": [
    "# Models: 12 previous steps for 3 next hours predictions"
   ]
  },
  {
   "cell_type": "code",
   "execution_count": 12,
   "metadata": {},
   "outputs": [
    {
     "name": "stdout",
     "output_type": "stream",
     "text": [
      "Epoch 1/12\n",
      "3154/3154 [==============================] - 22s 6ms/step - loss: 0.1213 - root_mean_squared_error: 0.3483 - val_loss: 0.0983 - val_root_mean_squared_error: 0.3135\n",
      "Epoch 2/12\n",
      "3154/3154 [==============================] - 20s 6ms/step - loss: 0.1083 - root_mean_squared_error: 0.3291 - val_loss: 0.0932 - val_root_mean_squared_error: 0.3052\n",
      "Epoch 3/12\n",
      "3154/3154 [==============================] - 21s 7ms/step - loss: 0.1068 - root_mean_squared_error: 0.3268 - val_loss: 0.0939 - val_root_mean_squared_error: 0.3064\n",
      "Epoch 4/12\n",
      "3154/3154 [==============================] - 21s 7ms/step - loss: 0.1062 - root_mean_squared_error: 0.3258 - val_loss: 0.0935 - val_root_mean_squared_error: 0.3057\n",
      "Epoch 5/12\n",
      "3154/3154 [==============================] - 20s 6ms/step - loss: 0.1051 - root_mean_squared_error: 0.3241 - val_loss: 0.0912 - val_root_mean_squared_error: 0.3020\n",
      "Epoch 6/12\n",
      "3154/3154 [==============================] - 20s 6ms/step - loss: 0.1043 - root_mean_squared_error: 0.3230 - val_loss: 0.0914 - val_root_mean_squared_error: 0.3024\n",
      "Epoch 7/12\n",
      "3154/3154 [==============================] - 20s 6ms/step - loss: 0.1039 - root_mean_squared_error: 0.3223 - val_loss: 0.0912 - val_root_mean_squared_error: 0.3019\n",
      "Epoch 8/12\n",
      "3154/3154 [==============================] - 20s 6ms/step - loss: 0.1032 - root_mean_squared_error: 0.3213 - val_loss: 0.0914 - val_root_mean_squared_error: 0.3023\n",
      "Epoch 9/12\n",
      "3154/3154 [==============================] - 21s 7ms/step - loss: 0.1026 - root_mean_squared_error: 0.3204 - val_loss: 0.0916 - val_root_mean_squared_error: 0.3026\n",
      "Epoch 10/12\n",
      "3154/3154 [==============================] - 20s 6ms/step - loss: 0.1022 - root_mean_squared_error: 0.3198 - val_loss: 0.0936 - val_root_mean_squared_error: 0.3060\n",
      "Epoch 11/12\n",
      "3154/3154 [==============================] - 20s 6ms/step - loss: 0.1017 - root_mean_squared_error: 0.3189 - val_loss: 0.0918 - val_root_mean_squared_error: 0.3031\n",
      "Epoch 12/12\n",
      "3154/3154 [==============================] - 20s 6ms/step - loss: 0.1013 - root_mean_squared_error: 0.3182 - val_loss: 0.0930 - val_root_mean_squared_error: 0.3049\n",
      "676/676 [==============================] - 2s 3ms/step\n",
      "Epoch 1/12\n",
      "3154/3154 [==============================] - 22s 7ms/step - loss: 0.1884 - root_mean_squared_error: 0.4340 - val_loss: 0.1652 - val_root_mean_squared_error: 0.4064\n",
      "Epoch 2/12\n",
      "3154/3154 [==============================] - 21s 7ms/step - loss: 0.1697 - root_mean_squared_error: 0.4119 - val_loss: 0.1583 - val_root_mean_squared_error: 0.3978\n",
      "Epoch 3/12\n",
      "3154/3154 [==============================] - 21s 7ms/step - loss: 0.1666 - root_mean_squared_error: 0.4082 - val_loss: 0.1597 - val_root_mean_squared_error: 0.3996\n",
      "Epoch 4/12\n",
      "3154/3154 [==============================] - 22s 7ms/step - loss: 0.1648 - root_mean_squared_error: 0.4059 - val_loss: 0.1571 - val_root_mean_squared_error: 0.3963\n",
      "Epoch 5/12\n",
      "3154/3154 [==============================] - 21s 7ms/step - loss: 0.1635 - root_mean_squared_error: 0.4043 - val_loss: 0.1558 - val_root_mean_squared_error: 0.3947\n",
      "Epoch 6/12\n",
      "3154/3154 [==============================] - 21s 7ms/step - loss: 0.1625 - root_mean_squared_error: 0.4031 - val_loss: 0.1555 - val_root_mean_squared_error: 0.3944\n",
      "Epoch 7/12\n",
      "3154/3154 [==============================] - 21s 7ms/step - loss: 0.1617 - root_mean_squared_error: 0.4021 - val_loss: 0.1534 - val_root_mean_squared_error: 0.3916\n",
      "Epoch 8/12\n",
      "3154/3154 [==============================] - 21s 7ms/step - loss: 0.1612 - root_mean_squared_error: 0.4014 - val_loss: 0.1527 - val_root_mean_squared_error: 0.3908\n",
      "Epoch 9/12\n",
      "3154/3154 [==============================] - 21s 7ms/step - loss: 0.1604 - root_mean_squared_error: 0.4006 - val_loss: 0.1578 - val_root_mean_squared_error: 0.3972\n",
      "Epoch 10/12\n",
      "3154/3154 [==============================] - 21s 7ms/step - loss: 0.1595 - root_mean_squared_error: 0.3994 - val_loss: 0.1510 - val_root_mean_squared_error: 0.3886\n",
      "Epoch 11/12\n",
      "3154/3154 [==============================] - 21s 7ms/step - loss: 0.1594 - root_mean_squared_error: 0.3993 - val_loss: 0.1551 - val_root_mean_squared_error: 0.3938\n",
      "Epoch 12/12\n",
      "3154/3154 [==============================] - 21s 7ms/step - loss: 0.1587 - root_mean_squared_error: 0.3984 - val_loss: 0.1536 - val_root_mean_squared_error: 0.3919\n",
      "676/676 [==============================] - 2s 3ms/step\n",
      "Epoch 1/12\n",
      "3154/3154 [==============================] - 26s 7ms/step - loss: 0.2609 - root_mean_squared_error: 0.5108 - val_loss: 0.2294 - val_root_mean_squared_error: 0.4790\n",
      "Epoch 2/12\n",
      "3154/3154 [==============================] - 30s 10ms/step - loss: 0.2351 - root_mean_squared_error: 0.4849 - val_loss: 0.2256 - val_root_mean_squared_error: 0.4750\n",
      "Epoch 3/12\n",
      "3154/3154 [==============================] - 23s 7ms/step - loss: 0.2302 - root_mean_squared_error: 0.4798 - val_loss: 0.2226 - val_root_mean_squared_error: 0.4718\n",
      "Epoch 4/12\n",
      "3154/3154 [==============================] - 22s 7ms/step - loss: 0.2267 - root_mean_squared_error: 0.4762 - val_loss: 0.2226 - val_root_mean_squared_error: 0.4718\n",
      "Epoch 5/12\n",
      "3154/3154 [==============================] - 22s 7ms/step - loss: 0.2246 - root_mean_squared_error: 0.4739 - val_loss: 0.2180 - val_root_mean_squared_error: 0.4669\n",
      "Epoch 6/12\n",
      "3154/3154 [==============================] - 22s 7ms/step - loss: 0.2231 - root_mean_squared_error: 0.4723 - val_loss: 0.2176 - val_root_mean_squared_error: 0.4665\n",
      "Epoch 7/12\n",
      "3154/3154 [==============================] - 22s 7ms/step - loss: 0.2218 - root_mean_squared_error: 0.4709 - val_loss: 0.2217 - val_root_mean_squared_error: 0.4708\n",
      "Epoch 8/12\n",
      "3154/3154 [==============================] - 23s 7ms/step - loss: 0.2204 - root_mean_squared_error: 0.4695 - val_loss: 0.2186 - val_root_mean_squared_error: 0.4676\n",
      "Epoch 9/12\n",
      "3154/3154 [==============================] - 22s 7ms/step - loss: 0.2191 - root_mean_squared_error: 0.4680 - val_loss: 0.2179 - val_root_mean_squared_error: 0.4668\n",
      "Epoch 10/12\n",
      "3154/3154 [==============================] - 22s 7ms/step - loss: 0.2189 - root_mean_squared_error: 0.4679 - val_loss: 0.2165 - val_root_mean_squared_error: 0.4653\n",
      "Epoch 11/12\n",
      "3154/3154 [==============================] - 22s 7ms/step - loss: 0.2181 - root_mean_squared_error: 0.4670 - val_loss: 0.2189 - val_root_mean_squared_error: 0.4679\n",
      "Epoch 12/12\n",
      "3154/3154 [==============================] - 22s 7ms/step - loss: 0.2170 - root_mean_squared_error: 0.4658 - val_loss: 0.2199 - val_root_mean_squared_error: 0.4689\n",
      "676/676 [==============================] - 3s 3ms/step\n",
      "Epoch 1/12\n",
      "3154/3154 [==============================] - 28s 8ms/step - loss: 0.1382 - root_mean_squared_error: 0.3718 - val_loss: 0.1216 - val_root_mean_squared_error: 0.3487\n",
      "Epoch 2/12\n",
      "3154/3154 [==============================] - 28s 9ms/step - loss: 0.1121 - root_mean_squared_error: 0.3348 - val_loss: 0.1183 - val_root_mean_squared_error: 0.3439\n",
      "Epoch 3/12\n",
      "3154/3154 [==============================] - 25s 8ms/step - loss: 0.1100 - root_mean_squared_error: 0.3317 - val_loss: 0.1166 - val_root_mean_squared_error: 0.3414\n",
      "Epoch 4/12\n",
      "3154/3154 [==============================] - 22s 7ms/step - loss: 0.1087 - root_mean_squared_error: 0.3297 - val_loss: 0.1148 - val_root_mean_squared_error: 0.3388\n",
      "Epoch 5/12\n",
      "3154/3154 [==============================] - 22s 7ms/step - loss: 0.1076 - root_mean_squared_error: 0.3281 - val_loss: 0.1125 - val_root_mean_squared_error: 0.3355\n",
      "Epoch 6/12\n",
      "3154/3154 [==============================] - 22s 7ms/step - loss: 0.1071 - root_mean_squared_error: 0.3273 - val_loss: 0.1107 - val_root_mean_squared_error: 0.3328\n",
      "Epoch 7/12\n",
      "3154/3154 [==============================] - 22s 7ms/step - loss: 0.1066 - root_mean_squared_error: 0.3264 - val_loss: 0.1095 - val_root_mean_squared_error: 0.3310\n",
      "Epoch 8/12\n",
      "3154/3154 [==============================] - 22s 7ms/step - loss: 0.1060 - root_mean_squared_error: 0.3256 - val_loss: 0.1105 - val_root_mean_squared_error: 0.3324\n",
      "Epoch 9/12\n",
      "3154/3154 [==============================] - 22s 7ms/step - loss: 0.1055 - root_mean_squared_error: 0.3248 - val_loss: 0.1093 - val_root_mean_squared_error: 0.3306\n",
      "Epoch 10/12\n",
      "3154/3154 [==============================] - 22s 7ms/step - loss: 0.1047 - root_mean_squared_error: 0.3236 - val_loss: 0.1094 - val_root_mean_squared_error: 0.3308\n",
      "Epoch 11/12\n",
      "3154/3154 [==============================] - 22s 7ms/step - loss: 0.1043 - root_mean_squared_error: 0.3230 - val_loss: 0.1079 - val_root_mean_squared_error: 0.3285\n",
      "Epoch 12/12\n",
      "3154/3154 [==============================] - 22s 7ms/step - loss: 0.1039 - root_mean_squared_error: 0.3223 - val_loss: 0.1112 - val_root_mean_squared_error: 0.3335\n",
      "676/676 [==============================] - 2s 3ms/step\n",
      "Epoch 1/12\n",
      "3154/3154 [==============================] - 25s 7ms/step - loss: 0.2061 - root_mean_squared_error: 0.4539 - val_loss: 0.2311 - val_root_mean_squared_error: 0.4807\n",
      "Epoch 2/12\n",
      "3154/3154 [==============================] - 26s 8ms/step - loss: 0.1769 - root_mean_squared_error: 0.4206 - val_loss: 0.2251 - val_root_mean_squared_error: 0.4745\n",
      "Epoch 3/12\n",
      "3154/3154 [==============================] - 24s 8ms/step - loss: 0.1732 - root_mean_squared_error: 0.4162 - val_loss: 0.2200 - val_root_mean_squared_error: 0.4690\n",
      "Epoch 4/12\n",
      "3154/3154 [==============================] - 22s 7ms/step - loss: 0.1704 - root_mean_squared_error: 0.4128 - val_loss: 0.2122 - val_root_mean_squared_error: 0.4607\n",
      "Epoch 5/12\n",
      "3154/3154 [==============================] - 21s 7ms/step - loss: 0.1685 - root_mean_squared_error: 0.4105 - val_loss: 0.2085 - val_root_mean_squared_error: 0.4566\n",
      "Epoch 6/12\n",
      "3154/3154 [==============================] - 21s 7ms/step - loss: 0.1669 - root_mean_squared_error: 0.4086 - val_loss: 0.2038 - val_root_mean_squared_error: 0.4515\n",
      "Epoch 7/12\n",
      "3154/3154 [==============================] - 22s 7ms/step - loss: 0.1654 - root_mean_squared_error: 0.4067 - val_loss: 0.2074 - val_root_mean_squared_error: 0.4554\n",
      "Epoch 8/12\n",
      "3154/3154 [==============================] - 21s 7ms/step - loss: 0.1649 - root_mean_squared_error: 0.4060 - val_loss: 0.1990 - val_root_mean_squared_error: 0.4461\n",
      "Epoch 9/12\n",
      "3154/3154 [==============================] - 21s 7ms/step - loss: 0.1635 - root_mean_squared_error: 0.4044 - val_loss: 0.1973 - val_root_mean_squared_error: 0.4441\n",
      "Epoch 10/12\n",
      "3154/3154 [==============================] - 21s 7ms/step - loss: 0.1628 - root_mean_squared_error: 0.4035 - val_loss: 0.1962 - val_root_mean_squared_error: 0.4430\n",
      "Epoch 11/12\n",
      "3154/3154 [==============================] - 21s 7ms/step - loss: 0.1622 - root_mean_squared_error: 0.4028 - val_loss: 0.1903 - val_root_mean_squared_error: 0.4363\n",
      "Epoch 12/12\n",
      "3154/3154 [==============================] - 21s 7ms/step - loss: 0.1618 - root_mean_squared_error: 0.4023 - val_loss: 0.1906 - val_root_mean_squared_error: 0.4366\n",
      "676/676 [==============================] - 2s 3ms/step\n",
      "Epoch 1/12\n",
      "3154/3154 [==============================] - 24s 7ms/step - loss: 0.2825 - root_mean_squared_error: 0.5315 - val_loss: 0.3721 - val_root_mean_squared_error: 0.6100\n",
      "Epoch 2/12\n",
      "3154/3154 [==============================] - 21s 7ms/step - loss: 0.2447 - root_mean_squared_error: 0.4946 - val_loss: 0.3530 - val_root_mean_squared_error: 0.5942\n",
      "Epoch 3/12\n",
      "3154/3154 [==============================] - 21s 7ms/step - loss: 0.2384 - root_mean_squared_error: 0.4882 - val_loss: 0.3456 - val_root_mean_squared_error: 0.5879\n",
      "Epoch 4/12\n",
      "3154/3154 [==============================] - 21s 7ms/step - loss: 0.2346 - root_mean_squared_error: 0.4843 - val_loss: 0.3227 - val_root_mean_squared_error: 0.5681\n",
      "Epoch 5/12\n",
      "3154/3154 [==============================] - 21s 7ms/step - loss: 0.2320 - root_mean_squared_error: 0.4817 - val_loss: 0.3154 - val_root_mean_squared_error: 0.5616\n",
      "Epoch 6/12\n",
      "3154/3154 [==============================] - 21s 7ms/step - loss: 0.2298 - root_mean_squared_error: 0.4794 - val_loss: 0.3081 - val_root_mean_squared_error: 0.5551\n",
      "Epoch 7/12\n",
      "3154/3154 [==============================] - 22s 7ms/step - loss: 0.2283 - root_mean_squared_error: 0.4778 - val_loss: 0.3002 - val_root_mean_squared_error: 0.5479\n",
      "Epoch 8/12\n",
      "3154/3154 [==============================] - 22s 7ms/step - loss: 0.2274 - root_mean_squared_error: 0.4768 - val_loss: 0.2995 - val_root_mean_squared_error: 0.5473\n",
      "Epoch 9/12\n",
      "3154/3154 [==============================] - 22s 7ms/step - loss: 0.2253 - root_mean_squared_error: 0.4747 - val_loss: 0.2950 - val_root_mean_squared_error: 0.5431\n",
      "Epoch 10/12\n",
      "3154/3154 [==============================] - 22s 7ms/step - loss: 0.2247 - root_mean_squared_error: 0.4740 - val_loss: 0.2892 - val_root_mean_squared_error: 0.5378\n",
      "Epoch 11/12\n",
      "3154/3154 [==============================] - 22s 7ms/step - loss: 0.2231 - root_mean_squared_error: 0.4723 - val_loss: 0.2929 - val_root_mean_squared_error: 0.5412\n",
      "Epoch 12/12\n",
      "3154/3154 [==============================] - 22s 7ms/step - loss: 0.2229 - root_mean_squared_error: 0.4721 - val_loss: 0.2842 - val_root_mean_squared_error: 0.5331\n",
      "676/676 [==============================] - 2s 3ms/step\n"
     ]
    }
   ],
   "source": [
    "test_size = 0.15\n",
    "valid_size = 0.15\n",
    "epochs = 12\n",
    "learning_rate=0.001\n",
    "batch_size = 32\n",
    "\n",
    "# with data shuffle\n",
    "window_size = 12\n",
    "MSE_humid_12, MAE_humid_12, MSE_wind_12, MAE_wind_12, MSE_temp_12, MAE_temp_12, pred_12, actaul_12, bias_relh, bias_skph, bias_temp  = return_time(window_size,test_size,valid_size,epochs,learning_rate, True, batch_size, True)\n",
    "\n",
    "# without data shuffle\n",
    "window_size = 12\n",
    "MSE_humid_12_ds, MAE_humid_12_ds, MSE_wind_12_ds, MAE_wind_12_ds, MSE_temp_12_ds, MAE_temp_12_ds, pred_12_ds, actaul_12_ds, bias_relh_ds, bias_skph_ds, bias_temp_ds  = return_time(window_size,test_size,valid_size,epochs,learning_rate, True, batch_size, False, \"lstm_for_update\")"
   ]
  },
  {
   "cell_type": "code",
   "execution_count": 13,
   "metadata": {},
   "outputs": [
    {
     "data": {
      "text/plain": [
       "Text(0.5, 1.0, 'temperature')"
      ]
     },
     "execution_count": 13,
     "metadata": {},
     "output_type": "execute_result"
    },
    {
     "data": {
      "image/png": "[encoded data removed]",
      "text/plain": [
       "<Figure size 640x480 with 3 Axes>"
      ]
     },
     "metadata": {},
     "output_type": "display_data"
    }
   ],
   "source": [
    "# with and without data shuffle\n",
    "import matplotlib.ticker as mticker\n",
    "\n",
    "fig, axs = plt.subplots(3)\n",
    "fig.suptitle('MAE for shuffle (green) and no shuffle (red) data input, x: hour [1,2,3], y: MAE value')\n",
    "fig.tight_layout(pad=1.8)\n",
    "fig.gca().xaxis.set_major_locator(mticker.MultipleLocator(1))\n",
    "\n",
    "axs[0].plot(MAE_humid_12,'r')\n",
    "axs[0].plot(MAE_humid_12_ds,'g')\n",
    "axs[0].set_title('relative humidity')\n",
    "\n",
    "axs[1].plot(MAE_wind_12,'r')\n",
    "axs[1].plot(MAE_wind_12_ds,'g')\n",
    "axs[1].set_title('speed of wind')\n",
    "\n",
    "axs[2].plot(MAE_temp_12,'r')\n",
    "axs[2].plot(MAE_temp_12_ds,'g')\n",
    "axs[2].set_title('temperature')\n"
   ]
  },
  {
   "cell_type": "markdown",
   "metadata": {},
   "source": [
    "# Mean and std save - cause above model (shuffle) is being chosen for predictions in pipeline"
   ]
  },
  {
   "cell_type": "code",
   "execution_count": 14,
   "metadata": {},
   "outputs": [],
   "source": [
    "test_size = 0.15\n",
    "valid_size = 0.15\n",
    "epochs = 12\n",
    "learning_rate=0.001\n",
    "\n",
    "X_train, y_train, X_val, y_val, X_test, y_test, mean, std = transform_and_split_data(all_data.copy(), window_size, test_size, valid_size, 0)"
   ]
  },
  {
   "cell_type": "code",
   "execution_count": 15,
   "metadata": {},
   "outputs": [
    {
     "name": "stdout",
     "output_type": "stream",
     "text": [
      "[76.89510779021957, 11.843569852039936, 9.335968539408992]\n",
      "[18.583363048546722, 7.771864068320906, 8.958479911528652]\n"
     ]
    }
   ],
   "source": [
    "print(mean)\n",
    "print(std)"
   ]
  },
  {
   "cell_type": "code",
   "execution_count": 16,
   "metadata": {},
   "outputs": [],
   "source": [
    "mean_and_std = pd.DataFrame()\n",
    "mean_and_std['mean'] = mean\n",
    "mean_and_std['std'] = std\n",
    "\n",
    "mean_and_std.to_csv(\"mean_and_std\")"
   ]
  },
  {
   "cell_type": "code",
   "execution_count": 17,
   "metadata": {},
   "outputs": [
    {
     "name": "stdout",
     "output_type": "stream",
     "text": [
      "mean_and_std.pkl\n"
     ]
    }
   ],
   "source": [
    "file_name = \"mean_and_std.pkl\"\n",
    "print(file_name)\n",
    "with open(file_name, \"ab\") as f_1:\n",
    "    pickle.dump(mean_and_std, f_1, -1)"
   ]
  },
  {
   "cell_type": "markdown",
   "metadata": {},
   "source": [
    "### Bias for last model - biases addition to the .pkl files"
   ]
  },
  {
   "cell_type": "code",
   "execution_count": 18,
   "metadata": {},
   "outputs": [
    {
     "name": "stdout",
     "output_type": "stream",
     "text": [
      "[0.2890509653298924, 0.9409750161493536, 1.499073391100112]\n",
      "[0.22524837005770054, -0.5318447284119191, -0.639696808350552]\n",
      "[0.3592320635052866, -0.12181200346916704, -0.28620425899812474]\n"
     ]
    }
   ],
   "source": [
    "print(bias_relh)\n",
    "print(bias_skph)\n",
    "print(bias_temp)"
   ]
  },
  {
   "cell_type": "code",
   "execution_count": 19,
   "metadata": {},
   "outputs": [],
   "source": [
    "# relh\t skph \ttemp\n",
    "biases = pd.DataFrame()\n",
    "biases['humid'] = bias_relh\n",
    "biases['wind'] = bias_skph\n",
    "biases['temp'] = bias_temp"
   ]
  },
  {
   "cell_type": "code",
   "execution_count": 20,
   "metadata": {},
   "outputs": [
    {
     "name": "stdout",
     "output_type": "stream",
     "text": [
      "lstm1.pkl\n",
      "lstm2.pkl\n",
      "lstm3.pkl\n"
     ]
    }
   ],
   "source": [
    "for i in range(3):\n",
    "        file_name = \"lstm\" + (str)(i+1) + \".pkl\"\n",
    "        print(file_name)\n",
    "        with open(file_name, \"ab\") as f_1:\n",
    "                pickle.dump(biases[biases.index==i], f_1, -1)"
   ]
  }
 ],
 "metadata": {
  "kernelspec": {
   "display_name": "Python 3",
   "language": "python",
   "name": "python3"
  },
  "language_info": {
   "codemirror_mode": {
    "name": "ipython",
    "version": 3
   },
   "file_extension": ".py",
   "mimetype": "text/x-python",
   "name": "python",
   "nbconvert_exporter": "python",
   "pygments_lexer": "ipython3",
   "version": "3.10.5"
  }
 },
 "nbformat": 4,
 "nbformat_minor": 2
}
