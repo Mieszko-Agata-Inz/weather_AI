{
 "cells": [
  {
   "cell_type": "markdown",
   "metadata": {},
   "source": [
    "# Notebook 4: regression model and naive algorithm\n",
    "\n",
    "In this notebook created are two models predicting data for the next, second and third hour for every weather component. This models will help to evaluate each xGBoost and LSTM model.\n",
    "\n",
    "Linear regression models will make predictions based on last 12 timestamps - the same amount as for LSTM models.\n",
    "\n",
    "Predicting in naive way will rely on comparisons of the weather conditions between timestamps being in distance of two, four and six steps, so as it is then as for making predictions for the next, second and third hour in the future.\n",
    "\n",
    "Data on which models will be tested will be from the beginning of 2016 till the end of 2021 - the same data as for the LSTM models updates and testing by MAE calculations. Naive algorithm will use only that data. Regression models will be at first fitted with data from 2013 - the same data as used for LSTM models fits in the Notebook 1."
   ]
  },
  {
   "cell_type": "markdown",
   "metadata": {},
   "source": [
    "## All necessary libraries imports"
   ]
  },
  {
   "cell_type": "code",
   "execution_count": 1,
   "metadata": {},
   "outputs": [],
   "source": [
    "from sklearn.linear_model import LinearRegression\n",
    "import pandas as pd\n",
    "import numpy as np\n",
    "import matplotlib.pyplot as plt\n",
    "from sklearn.metrics import mean_absolute_error"
   ]
  },
  {
   "cell_type": "markdown",
   "metadata": {},
   "source": [
    "Imports from helpful_functions.python script located in root/notebooks folder."
   ]
  },
  {
   "cell_type": "code",
   "execution_count": 2,
   "metadata": {},
   "outputs": [],
   "source": [
    "from helpful_functions import transform_data"
   ]
  },
  {
   "cell_type": "markdown",
   "metadata": {},
   "source": [
    "## Files to load"
   ]
  },
  {
   "cell_type": "code",
   "execution_count": 3,
   "metadata": {},
   "outputs": [],
   "source": [
    "# read the CSV files\n",
    "\n",
    "# train data\n",
    "train_data = pd.read_csv(\"all_data/data_for_main_model/data_ready_for_training.csv\")\n",
    "train_data = train_data[train_data['year'] == 2013]\n",
    "# choose appropriate features\n",
    "train_data = train_data[[\"relh\", \"skph\", \"temp\"]]\n",
    "\n",
    "# this data is the same as the test data from Notebook 1\n",
    "# data from the beginning of 2016 till the end of 2021\n",
    "data = pd.read_csv(\"all_data/data_for_main_model/data_ready_for_testing.csv\")\n",
    "data = data[data['year']!=2022]\n",
    "# choose appropriate features\n",
    "all_data = data[[\"relh\", \"skph\", \"temp\"]]"
   ]
  },
  {
   "cell_type": "markdown",
   "metadata": {},
   "source": [
    "# Regression model for relative humidity, speed of wind and temperature "
   ]
  },
  {
   "cell_type": "code",
   "execution_count": 7,
   "metadata": {},
   "outputs": [],
   "source": [
    "# data partition\n",
    "humid_data = all_data['relh']\n",
    "wind_data = all_data['skph']\n",
    "temp_data = all_data['temp']"
   ]
  },
  {
   "cell_type": "markdown",
   "metadata": {},
   "source": [
    "Results will be generated under the below code."
   ]
  },
  {
   "cell_type": "code",
   "execution_count": 11,
   "metadata": {},
   "outputs": [
    {
     "name": "stdout",
     "output_type": "stream",
     "text": [
      "MAE for humidity [%] predictions in 1.0 hour : 4.0885651296469625.\n",
      "MAE for speed of wind [km/h] predictions in 1.0 hour : 2.680956220146139.\n",
      "MAE for temperature [°C] predictions in 1.0 hour : 0.7137259196316501.\n",
      "\n",
      "MAE for humidity [%] predictions in 2.0 hour : 6.195874445520641.\n",
      "MAE for speed of wind [km/h] predictions in 2.0 hour : 3.4117880919231096.\n",
      "MAE for temperature [°C] predictions in 2.0 hour : 1.1791144226029573.\n",
      "\n",
      "MAE for humidity [%] predictions in 3.0 hour : 8.03564143187572.\n",
      "MAE for speed of wind [km/h] predictions in 3.0 hour : 3.9947500857033846.\n",
      "MAE for temperature [°C] predictions in 3.0 hour : 1.6520777359476866.\n",
      "\n"
     ]
    }
   ],
   "source": [
    "# last_pred_hour == 3 means that predictions are from +1 hour till +3 hours\n",
    "last_pred_hour = 3\n",
    "for hour in range(1,last_pred_hour*2,2): # cause every data timestamp is in 30 min distance\n",
    "    # transforming data for linear regression models which will make predictions based on last 12 timestamps\n",
    "    X_humid, y_humid = transform_data(humid_data, timestamps_count = hour, for_linear_regression = True)\n",
    "    X_wind, y_wind = transform_data(wind_data, timestamps_count = hour, for_linear_regression = True)\n",
    "    X_temp, y_temp = transform_data(temp_data, timestamps_count = hour, for_linear_regression = True)\n",
    "\n",
    "    # fitting every model separately for each weather condition\n",
    "    reg_humid = LinearRegression().fit(X_humid, y_humid)\n",
    "    reg_wind = LinearRegression().fit(X_wind, y_wind)\n",
    "    reg_temp = LinearRegression().fit(X_temp, y_temp)\n",
    "\n",
    "    MAE_humid = []\n",
    "    MAE_wind = []\n",
    "    MAE_temp = []\n",
    "\n",
    "    pred_humid = reg_humid.predict(X_humid)\n",
    "    pred_wind = reg_wind.predict(X_wind)\n",
    "    pred_temp = reg_temp.predict(X_temp)\n",
    "\n",
    "    # append MAE for each hour\n",
    "    MAE_humid.append(mean_absolute_error(y_humid, pred_humid))\n",
    "    MAE_wind.append(mean_absolute_error(y_wind, pred_wind))\n",
    "    MAE_temp.append(mean_absolute_error(y_temp, pred_temp))\n",
    "\n",
    "    print(f'MAE for humidity [%] predictions in {(hour+1)/2} hour : {MAE_humid[-1]}.')\n",
    "    print(f'MAE for speed of wind [km/h] predictions in {(hour+1)/2} hour : {MAE_wind[-1]}.')\n",
    "    print(f'MAE for temperature [°C] predictions in {(hour+1)/2} hour : {MAE_temp[-1]}.\\n')"
   ]
  },
  {
   "cell_type": "markdown",
   "metadata": {},
   "source": [
    "# Naive method"
   ]
  },
  {
   "cell_type": "markdown",
   "metadata": {},
   "source": [
    "Results will be generated under the below code."
   ]
  },
  {
   "cell_type": "code",
   "execution_count": null,
   "metadata": {},
   "outputs": [
    {
     "name": "stdout",
     "output_type": "stream",
     "text": [
      "MAE for humidity [%] predictions in 1.0 hour : 3.965962451589575.\n",
      "MAE for speed of wind [km/h] predictions in 1.0 hour : 2.7103195516266854.\n",
      "MAE for temperature [°C] predictions in 1.0 hour : 0.7428799802076296.\n",
      "\n",
      "MAE for humidity [%] predictions in 2.0 hour : 6.3645919173272185.\n",
      "MAE for speed of wind [km/h] predictions in 2.0 hour : 3.5101276441873077.\n",
      "MAE for temperature [°C] predictions in 2.0 hour : 1.3246676626478509.\n",
      "\n",
      "MAE for humidity [%] predictions in 3.0 hour : 8.556541722572724.\n",
      "MAE for speed of wind [km/h] predictions in 3.0 hour : 4.176327233625473.\n",
      "MAE for temperature [°C] predictions in 3.0 hour : 1.8726959566835097.\n",
      "\n"
     ]
    }
   ],
   "source": [
    "# last_pred_hour == 3 means that predictions are from +1 hour till +3 hours\n",
    "last_pred_hour = 3\n",
    "for hour in range(1,last_pred_hour*2,2): # cause every data timestamp is in 30 min distance\n",
    "    X_humid = all_data['relh'][:-(hour+1)]\n",
    "    y_humid = all_data['relh'][(hour+1):]\n",
    "    MAE_humid = mean_absolute_error(X_humid,y_humid)\n",
    "\n",
    "    X_wind = all_data['skph'][:-(hour+1)]\n",
    "    y_wind = all_data['skph'][(hour+1):]\n",
    "    MAE_wind = mean_absolute_error(X_wind,y_wind)\n",
    "\n",
    "    X_temp = all_data['temp'][:-(hour+1)]\n",
    "    y_temp = all_data['temp'][(hour+1):]\n",
    "    MAE_temp = mean_absolute_error(X_temp,y_temp)\n",
    "\n",
    "    print(f'MAE for humidity [%] predictions in {(hour+1)/2} hour : {MAE_humid}.')\n",
    "    print(f'MAE for speed of wind [km/h] predictions in {(hour+1)/2} hour : {MAE_wind}.')\n",
    "    print(f'MAE for temperature [°C] predictions in {(hour+1)/2} hour : {MAE_temp}.\\n')"
   ]
  }
 ],
 "metadata": {
  "kernelspec": {
   "display_name": "Python 3",
   "language": "python",
   "name": "python3"
  },
  "language_info": {
   "codemirror_mode": {
    "name": "ipython",
    "version": 3
   },
   "file_extension": ".py",
   "mimetype": "text/x-python",
   "name": "python",
   "nbconvert_exporter": "python",
   "pygments_lexer": "ipython3",
   "version": "3.10.5"
  }
 },
 "nbformat": 4,
 "nbformat_minor": 2
}
