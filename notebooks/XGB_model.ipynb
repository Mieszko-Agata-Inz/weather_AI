{
 "cells": [
  {
   "cell_type": "markdown",
   "metadata": {},
   "source": [
    "# Notebook 3 (XGBoost): learning each model on previously prepared data and biases calculations\n",
    "Data for training originates from stations localized in: Warszawa, Wrocław, Szczecin, Rzeszów."
   ]
  },
  {
   "cell_type": "markdown",
   "metadata": {},
   "source": [
    "## All necessary libraries imports"
   ]
  },
  {
   "cell_type": "code",
   "execution_count": 1,
   "metadata": {},
   "outputs": [],
   "source": [
    "import pandas as pd\n",
    "import matplotlib.pyplot as plt\n",
    "import numpy as np\n",
    "from sklearn.metrics import mean_absolute_error\n",
    "import pickle\n",
    "import xgboost as xgb"
   ]
  },
  {
   "cell_type": "markdown",
   "metadata": {},
   "source": [
    "## Files to load"
   ]
  },
  {
   "cell_type": "code",
   "execution_count": 2,
   "metadata": {},
   "outputs": [],
   "source": [
    "# read the CSV files\n",
    "\n",
    "# train data - models will be training on data from 2015 to 2020\n",
    "train_data = pd.read_csv(\"all_data/data_for_XGB/data_ready_for_training.csv\")\n",
    "\n",
    "# valid data from 2021\n",
    "valid_data = pd.read_csv(\"all_data/data_for_XGB/data_ready_for_validation.csv\")\n",
    "\n",
    "# test data from 2022\n",
    "test_data = pd.read_csv(\"all_data/data_for_XGB/data_ready_for_testing.csv\")"
   ]
  },
  {
   "cell_type": "markdown",
   "metadata": {},
   "source": [
    "## Functions for models learning "
   ]
  },
  {
   "cell_type": "markdown",
   "metadata": {},
   "source": [
    "Defining the function that for each station generates dataframe shifted by given timedelta (given in hours). It will be the target variable or the input data for the model depending on is_x value. If is_x equals True then it will be the input data."
   ]
  },
  {
   "cell_type": "code",
   "execution_count": 3,
   "metadata": {},
   "outputs": [],
   "source": [
    "def generate_dfs(raw: pd.DataFrame, is_x: bool, timedelta):\n",
    "    dfs=[]\n",
    "    # different stations: Rzeszów, Szczecin, Warszawa and Wrocław\n",
    "    stations=[\"EPRZ\", \"EPSC\", \"EPWA\", \"EPWR\"]\n",
    "    for station in stations:\n",
    "        # each station and only full hours\n",
    "        wdf=raw[(raw['station']==station) & (raw['minutes']==0)]\n",
    "        if is_x:\n",
    "            wdf = wdf[:-timedelta]\n",
    "        else:\n",
    "            wdf = wdf[timedelta:]\n",
    "        dfs.append(wdf.copy())\n",
    "    # as an output value return concatenated data\n",
    "    return pd.concat(dfs).reset_index(drop=True)"
   ]
  },
  {
   "cell_type": "markdown",
   "metadata": {},
   "source": [
    "## Training three models for predictions in next, second and third hour\n",
    "Each model consists of params such as:\n",
    "- tree_method=\"hist\", which choose the algorithm,\n",
    "- n_estimators=200, which is the number of gradient boosted trees,\n",
    "- max_depth=12, which is maximum tree depth,\n",
    "- subsample=0.6, which is subsample ratio of the training instance."
   ]
  },
  {
   "cell_type": "code",
   "execution_count": 4,
   "metadata": {},
   "outputs": [],
   "source": [
    "# last_pred_hour == 3 means that predictions are from +1 hour till +3 hours\n",
    "last_pred_hour = 3\n",
    "\n",
    "# temporary lists for MAE and biases for each hour/ each model\n",
    "MAE_humid = []\n",
    "MAE_wind = []\n",
    "MAE_temp = []\n",
    "bias_relh = []\n",
    "bias_sped = []\n",
    "bias_temp = []\n",
    "\n",
    "for hour in range(1,last_pred_hour+1):\n",
    "\n",
    "    # division into explanatory X and response y variables\n",
    "    x_train_xgb = generate_dfs(train_data, is_x=True, timedelta=hour)\n",
    "    y_train_xgb = generate_dfs(train_data, is_x=False, timedelta=hour)\n",
    "\n",
    "    x_valid_xgb = generate_dfs(valid_data, is_x=True, timedelta=hour)\n",
    "    y_valid_xgb = generate_dfs(valid_data, is_x=False, timedelta=hour)\n",
    "\n",
    "    x_test_xgb = generate_dfs(test_data, is_x=True, timedelta=hour)\n",
    "    y_test_xgb = generate_dfs(test_data, is_x=False, timedelta=hour)\n",
    "\n",
    "    # drop unnecessary columns\n",
    "    y_train_xgb.drop(axis=\"columns\", inplace=True, labels=[\"station\", \"minutes\",\"Unnamed: 0\"])\n",
    "    x_train_xgb.drop(axis=\"columns\", inplace=True, labels=[\"station\", \"minutes\",\"Unnamed: 0\"])\n",
    "\n",
    "    y_valid_xgb.drop(axis=\"columns\", inplace=True, labels=[\"station\", \"minutes\",\"Unnamed: 0\"])\n",
    "    x_valid_xgb.drop(axis=\"columns\", inplace=True, labels=[\"station\", \"minutes\",\"Unnamed: 0\"])\n",
    "    \n",
    "    y_test_xgb.drop(axis=\"columns\", inplace=True, labels=[\"station\", \"minutes\",\"Unnamed: 0\"])\n",
    "    x_test_xgb.drop(axis=\"columns\", inplace=True, labels=[\"station\", \"minutes\",\"Unnamed: 0\"])\n",
    "\n",
    "    # create XGBoost regression model\n",
    "    reg = xgb.XGBRegressor(\n",
    "        tree_method=\"hist\",\n",
    "        n_estimators=200,\n",
    "        n_jobs=16,\n",
    "        max_depth=12,\n",
    "        subsample=0.6,\n",
    "    )\n",
    "    \n",
    "    # training the model\n",
    "    reg.fit(x_train_xgb, y_train_xgb, eval_set=[(x_train_xgb, y_train_xgb)], verbose=False)\n",
    "\n",
    "    # saving each model to the pikle file\n",
    "    file_name = 'generated_models/xgb_models/' + \"xgb_\" + str(hour) + \".pkl\"\n",
    "    with open(file_name, \"xb\") as f_1:\n",
    "        pickle.dump(reg, f_1, -1)\n",
    "\n",
    "    # predictions\n",
    "    y_pred_xgb = reg.predict(x_test_xgb)\n",
    "    y_pred_xgb = pd.DataFrame(y_pred_xgb, columns=[ \"lon\", \"lat\",  \"tmpc\",  \"relh\" ,\"sped\" ,\"day\",\"month\", \"year\", \"hour\"])\n",
    "\n",
    "    # MAE error calculations\n",
    "    MAE_humid.append(mean_absolute_error(y_pred_xgb[[\"relh\"]],y_test_xgb[[\"relh\"]]))\n",
    "    MAE_wind.append(mean_absolute_error(y_pred_xgb[[\"sped\"]],y_test_xgb[[\"sped\"]]))\n",
    "    MAE_temp.append(mean_absolute_error(y_pred_xgb[[\"tmpc\"]],y_test_xgb[[\"tmpc\"]]))\n",
    "\n",
    "    # biases calculations\n",
    "    bias_relh.append(sum((y_pred_xgb[[\"relh\"]].values - y_test_xgb[[\"relh\"]].values)/len(y_test_xgb))[0])\n",
    "    bias_sped.append(sum((y_pred_xgb[[\"sped\"]].values - y_test_xgb[[\"sped\"]].values)/len(y_test_xgb))[0])\n",
    "    bias_temp.append(sum((y_pred_xgb[[\"tmpc\"]].values - y_test_xgb[[\"tmpc\"]].values)/len(y_test_xgb))[0])\n"
   ]
  },
  {
   "cell_type": "markdown",
   "metadata": {},
   "source": [
    "# Results\n",
    "MAE evaluated for each weather component separately.\n",
    "\n",
    "Error is given:\n",
    "\n",
    "- For temperature in °C.\n",
    "- For relative humidity in %.\n",
    "- For speed of wind in km/h."
   ]
  },
  {
   "cell_type": "code",
   "execution_count": 5,
   "metadata": {},
   "outputs": [
    {
     "data": {
      "text/html": [
       "<div>\n",
       "<style scoped>\n",
       "    .dataframe tbody tr th:only-of-type {\n",
       "        vertical-align: middle;\n",
       "    }\n",
       "\n",
       "    .dataframe tbody tr th {\n",
       "        vertical-align: top;\n",
       "    }\n",
       "\n",
       "    .dataframe thead th {\n",
       "        text-align: right;\n",
       "    }\n",
       "</style>\n",
       "<table border=\"1\" class=\"dataframe\">\n",
       "  <thead>\n",
       "    <tr style=\"text-align: right;\">\n",
       "      <th></th>\n",
       "      <th>hour</th>\n",
       "      <th>relh</th>\n",
       "      <th>skph</th>\n",
       "      <th>temp</th>\n",
       "    </tr>\n",
       "  </thead>\n",
       "  <tbody>\n",
       "    <tr>\n",
       "      <th>0</th>\n",
       "      <td>1</td>\n",
       "      <td>4.903655</td>\n",
       "      <td>4.139135</td>\n",
       "      <td>0.850383</td>\n",
       "    </tr>\n",
       "    <tr>\n",
       "      <th>1</th>\n",
       "      <td>2</td>\n",
       "      <td>6.403538</td>\n",
       "      <td>4.966474</td>\n",
       "      <td>1.179892</td>\n",
       "    </tr>\n",
       "    <tr>\n",
       "      <th>2</th>\n",
       "      <td>3</td>\n",
       "      <td>7.448026</td>\n",
       "      <td>5.428417</td>\n",
       "      <td>1.447842</td>\n",
       "    </tr>\n",
       "  </tbody>\n",
       "</table>\n",
       "</div>"
      ],
      "text/plain": [
       "   hour      relh      skph      temp\n",
       "0     1  4.903655  4.139135  0.850383\n",
       "1     2  6.403538  4.966474  1.179892\n",
       "2     3  7.448026  5.428417  1.447842"
      ]
     },
     "execution_count": 5,
     "metadata": {},
     "output_type": "execute_result"
    }
   ],
   "source": [
    "MAE = pd.DataFrame()\n",
    "MAE['hour'] = [1,2,3]\n",
    "MAE['relh'] = MAE_humid\n",
    "MAE['skph'] = MAE_wind\n",
    "MAE['temp'] = MAE_temp\n",
    "\n",
    "MAE"
   ]
  },
  {
   "cell_type": "markdown",
   "metadata": {},
   "source": [
    "## Biases for each weather condition"
   ]
  },
  {
   "cell_type": "code",
   "execution_count": 6,
   "metadata": {},
   "outputs": [
    {
     "data": {
      "text/html": [
       "<div>\n",
       "<style scoped>\n",
       "    .dataframe tbody tr th:only-of-type {\n",
       "        vertical-align: middle;\n",
       "    }\n",
       "\n",
       "    .dataframe tbody tr th {\n",
       "        vertical-align: top;\n",
       "    }\n",
       "\n",
       "    .dataframe thead th {\n",
       "        text-align: right;\n",
       "    }\n",
       "</style>\n",
       "<table border=\"1\" class=\"dataframe\">\n",
       "  <thead>\n",
       "    <tr style=\"text-align: right;\">\n",
       "      <th></th>\n",
       "      <th>relh</th>\n",
       "      <th>skph</th>\n",
       "      <th>temp</th>\n",
       "    </tr>\n",
       "  </thead>\n",
       "  <tbody>\n",
       "    <tr>\n",
       "      <th>0</th>\n",
       "      <td>0.233492</td>\n",
       "      <td>-0.215025</td>\n",
       "      <td>-0.005704</td>\n",
       "    </tr>\n",
       "    <tr>\n",
       "      <th>1</th>\n",
       "      <td>0.241795</td>\n",
       "      <td>-0.255559</td>\n",
       "      <td>-0.027408</td>\n",
       "    </tr>\n",
       "    <tr>\n",
       "      <th>2</th>\n",
       "      <td>0.187601</td>\n",
       "      <td>-0.336148</td>\n",
       "      <td>-0.029828</td>\n",
       "    </tr>\n",
       "  </tbody>\n",
       "</table>\n",
       "</div>"
      ],
      "text/plain": [
       "       relh      skph      temp\n",
       "0  0.233492 -0.215025 -0.005704\n",
       "1  0.241795 -0.255559 -0.027408\n",
       "2  0.187601 -0.336148 -0.029828"
      ]
     },
     "execution_count": 6,
     "metadata": {},
     "output_type": "execute_result"
    }
   ],
   "source": [
    "biases = pd.DataFrame()\n",
    "biases['relh'] = bias_relh\n",
    "biases['skph'] = bias_sped\n",
    "biases['temp'] = bias_temp\n",
    "\n",
    "# save data to root/notebooks/generated_models/xgb_models/biases_xgboost folder\n",
    "biases.to_csv(\"generated_models/xgb_models/biases_xgboost\")\n",
    "\n",
    "# display\n",
    "biases"
   ]
  },
  {
   "cell_type": "markdown",
   "metadata": {},
   "source": [
    "Add biases to the generated models in pikle files."
   ]
  },
  {
   "cell_type": "code",
   "execution_count": 7,
   "metadata": {},
   "outputs": [
    {
     "name": "stdout",
     "output_type": "stream",
     "text": [
      "generated_models/xgb_models/xgb_1.pkl\n",
      "generated_models/xgb_models/xgb_2.pkl\n",
      "generated_models/xgb_models/xgb_3.pkl\n"
     ]
    }
   ],
   "source": [
    "for i in range(3):\n",
    "        file_name = 'generated_models/xgb_models/' + \"xgb_\" + (str)(i+1) + \".pkl\"\n",
    "        print(file_name)\n",
    "        with open(file_name, \"ab\") as f_1:\n",
    "                pickle.dump(biases[biases.index==i], f_1, -1)"
   ]
  }
 ],
 "metadata": {
  "kernelspec": {
   "display_name": "Python 3",
   "language": "python",
   "name": "python3"
  },
  "language_info": {
   "codemirror_mode": {
    "name": "ipython",
    "version": 3
   },
   "file_extension": ".py",
   "mimetype": "text/x-python",
   "name": "python",
   "nbconvert_exporter": "python",
   "pygments_lexer": "ipython3",
   "version": "3.10.5"
  },
  "orig_nbformat": 4
 },
 "nbformat": 4,
 "nbformat_minor": 2
}
